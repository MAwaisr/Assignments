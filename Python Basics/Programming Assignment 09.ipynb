{
 "cells": [
  {
   "cell_type": "markdown",
   "id": "7ed1e793",
   "metadata": {},
   "source": [
    "## Assignment 09"
   ]
  },
  {
   "cell_type": "markdown",
   "id": "5da7fd52",
   "metadata": {},
   "source": [
    "1.\tWrite a Python program to check if the given number is a Disarium Number?\n",
    "2.\tWrite a Python program to print all disarium numbers between 1 to 100?\n",
    "3.\tWrite a Python program to check if the given number is Happy Number?\n",
    "4.\tWrite a Python program to print all happy numbers between 1 and 100?\n",
    "5.\tWrite a Python program to determine whether the given number is a Harshad Number?\n",
    "6.\tWrite a Python program to print all pronic numbers between 1 and 100?\n"
   ]
  },
  {
   "cell_type": "markdown",
   "id": "544b76a5",
   "metadata": {},
   "source": [
    "1.\tWrite a Python program to check if the given number is a Disarium Number?"
   ]
  },
  {
   "cell_type": "markdown",
   "id": "77d6b7cd",
   "metadata": {},
   "source": [
    "<pre>Sol: A Disarium number, also known as a Powerful number or a digit-sum number, is a number that equals the sum of its digits raised to the power of their respective positions in the number.\n",
    "\n",
    "For example, consider the number 175. It has three digits, and its digits are 1, 7, and 5. The first digit is in the first position, the second digit is in the second position, and the third digit is in the third position. Therefore, to determine if 175 is a Disarium number, we calculate:\n",
    "\n",
    "1^1 + 7^2 + 5^3 = 1 + 49 + 125 = 175<pre>"
   ]
  },
  {
   "cell_type": "code",
   "execution_count": 21,
   "id": "e096e038",
   "metadata": {},
   "outputs": [
    {
     "name": "stdout",
     "output_type": "stream",
     "text": [
      "Enter value: 89\n",
      "Given number is disarium number\n"
     ]
    }
   ],
   "source": [
    "num = str(input(\"Enter value: \"))\n",
    "ans =0\n",
    "for i in range(0,len(num)):\n",
    "    ans = ans+int( int(num[i])**(i+1) )\n",
    "if ans==int(num):\n",
    "    print(\"Given number is disarium number\")\n",
    "else:\n",
    "    print(\"Given number is not disarium number\")"
   ]
  },
  {
   "cell_type": "markdown",
   "id": "afe26867",
   "metadata": {},
   "source": [
    "2.\tWrite a Python program to print all disarium numbers between 1 to 100?\n"
   ]
  },
  {
   "cell_type": "code",
   "execution_count": 20,
   "id": "daa801f1",
   "metadata": {},
   "outputs": [
    {
     "name": "stdout",
     "output_type": "stream",
     "text": [
      "1\n",
      "2\n",
      "3\n",
      "4\n",
      "5\n",
      "6\n",
      "7\n",
      "8\n",
      "9\n",
      "89\n"
     ]
    }
   ],
   "source": [
    "for j in range(1,100):\n",
    "    num = str(j)\n",
    "    ans =0\n",
    "    for i in range(0,len(num)):\n",
    "        ans = ans+int( int(num[i])**(i+1))\n",
    "    if ans==j:\n",
    "        print(ans)\n",
    "    else:\n",
    "        continue"
   ]
  },
  {
   "cell_type": "markdown",
   "id": "d831cc75",
   "metadata": {},
   "source": [
    "3.\tWrite a Python program to check if the given number is Happy Number?"
   ]
  },
  {
   "cell_type": "code",
   "execution_count": 22,
   "id": "cee4fd28",
   "metadata": {},
   "outputs": [
    {
     "name": "stdout",
     "output_type": "stream",
     "text": [
      "Number is not Happy number\n"
     ]
    }
   ],
   "source": [
    "def happy(num,j):\n",
    "    if num>0:\n",
    "        a =j-1\n",
    "        num = str(num)\n",
    "        ans = 0\n",
    "        for i in range(0,len(num)):\n",
    "            ans = ans+int(int(num[i])**2)\n",
    "        if a>0 and ans!=1:\n",
    "            happy(ans,a)\n",
    "        elif ans==1:\n",
    "            print(\"Number is Happy number\")\n",
    "        else:\n",
    "            print(\"Number is not Happy number\")\n",
    "    elif num==1:\n",
    "        print(\"Number is Happy number\")\n",
    "    else: \n",
    "        print(\"Error\")\n",
    "happy(20,10)    # number,no of iterations to be performed to check if a number goes to 1 or not"
   ]
  },
  {
   "cell_type": "markdown",
   "id": "4d1f94f8",
   "metadata": {},
   "source": [
    "4.\tWrite a Python program to print all happy numbers between 1 and 100?"
   ]
  },
  {
   "cell_type": "code",
   "execution_count": 26,
   "id": "8d116ce0",
   "metadata": {},
   "outputs": [
    {
     "name": "stdout",
     "output_type": "stream",
     "text": [
      "1\n",
      "7\n",
      "10\n",
      "13\n",
      "19\n",
      "23\n",
      "28\n",
      "31\n",
      "32\n",
      "44\n",
      "49\n",
      "68\n",
      "70\n",
      "79\n",
      "82\n",
      "86\n",
      "91\n",
      "94\n",
      "97\n"
     ]
    }
   ],
   "source": [
    "def isHappy(num):\n",
    "    ans = num\n",
    "    visited = set()\n",
    "    while num not in visited:\n",
    "        visited.add(num)\n",
    "        num = sum(int(i)**2 for i in str(num))\n",
    "        if num == 1:\n",
    "            return ans\n",
    "    \n",
    "for i in range(1,100):\n",
    "    if isHappy(i)!= None:\n",
    "        print(isHappy(i))"
   ]
  },
  {
   "cell_type": "markdown",
   "id": "b45a3623",
   "metadata": {},
   "source": [
    "5.\tWrite a Python program to determine whether the given number is a Harshad Number?\n"
   ]
  },
  {
   "cell_type": "markdown",
   "id": "b709b89b",
   "metadata": {},
   "source": [
    "Ans: Harsha number is a positive integer which is divisible by the sum of its digits, also called a Niven number"
   ]
  },
  {
   "cell_type": "code",
   "execution_count": 24,
   "id": "c7bab7fc",
   "metadata": {},
   "outputs": [
    {
     "name": "stdout",
     "output_type": "stream",
     "text": [
      "Enter value: 16\n",
      "sum of the digits is: 7\n",
      "Given number is not Harshad number\n"
     ]
    }
   ],
   "source": [
    "num = str(input(\"Enter value: \"))\n",
    "ans =0\n",
    "for i in range(0,len(num)):\n",
    "    ans = ans+int(num[i])\n",
    "print(\"sum of the digits is: {}\".format(ans)) # to check if the summed number is correct or not\n",
    "\n",
    "if int(num)%ans==0:\n",
    "    print(\"Given number is Harshad number\")\n",
    "else:\n",
    "    print(\"Given number is not Harshad number\")\n"
   ]
  },
  {
   "cell_type": "markdown",
   "id": "32ca0693",
   "metadata": {},
   "source": [
    "6.\tWrite a Python program to print all pronic numbers between 1 and 100?\n"
   ]
  },
  {
   "cell_type": "code",
   "execution_count": 18,
   "id": "b1acdde6",
   "metadata": {},
   "outputs": [
    {
     "name": "stdout",
     "output_type": "stream",
     "text": [
      "2\n",
      "6\n",
      "12\n",
      "20\n",
      "30\n",
      "42\n",
      "56\n",
      "72\n",
      "90\n"
     ]
    }
   ],
   "source": [
    "for i in range(1,100):\n",
    "    ans =i*(i+1)\n",
    "    if ans<100:\n",
    "        print(ans)\n",
    "    else:\n",
    "        continue"
   ]
  }
 ],
 "metadata": {
  "kernelspec": {
   "display_name": "Python 3 (ipykernel)",
   "language": "python",
   "name": "python3"
  },
  "language_info": {
   "codemirror_mode": {
    "name": "ipython",
    "version": 3
   },
   "file_extension": ".py",
   "mimetype": "text/x-python",
   "name": "python",
   "nbconvert_exporter": "python",
   "pygments_lexer": "ipython3",
   "version": "3.9.12"
  }
 },
 "nbformat": 4,
 "nbformat_minor": 5
}
