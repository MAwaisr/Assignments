{
 "cells": [
  {
   "cell_type": "markdown",
   "id": "20c96bb6",
   "metadata": {},
   "source": [
    "## Assignment 01 "
   ]
  },
  {
   "cell_type": "markdown",
   "id": "6d7d39c3",
   "metadata": {},
   "source": [
    "1. In the below elements which of them are values or an expression? eg:- values can be integer or string and expressions will be mathematical operators.<br> \n",
    "Ans:<br> \n",
    " *(expressions)<br> \n",
    " 'hello'(value)<br> \n",
    "  -87.8 (value)<br> \n",
    " -(expressions)<br> \n",
    " / (expressions)<br> \n",
    " +(expressions)<br> \n",
    " 6 (value)<br> "
   ]
  },
  {
   "cell_type": "markdown",
   "id": "e0f64faf",
   "metadata": {},
   "source": [
    "2. What is the difference between string and variable?<br> \n",
    "\n",
    "Ans: String is a specific datatype while variable can be of any data type like integer, float or also string can be stored in a variable which has datatype of string."
   ]
  },
  {
   "cell_type": "markdown",
   "id": "f004a9b4",
   "metadata": {},
   "source": [
    "3. Describe three different data types.<br> \n",
    "\n",
    "Ans:<br> \n",
    "Integer: It is a data type which stores whole numbers or integers.\n",
    "Float: It is a data type which stores decimal numbers.\n",
    "Bool: It is a data type which has only two values, like True and False."
   ]
  },
  {
   "cell_type": "markdown",
   "id": "7f73f9ea",
   "metadata": {},
   "source": [
    "4. What is an expression made up of? What do all expressions do.<br> \n",
    "Ans:  An expression is a combination of variables, operators, values and calls to functions. Expressions provide some output, that is  if we write an expression in Python then the interpreter evaluates the expression and displays the result.\n",
    "e.g"
   ]
  },
  {
   "cell_type": "code",
   "execution_count": 16,
   "id": "2480b786",
   "metadata": {},
   "outputs": [
    {
     "data": {
      "text/plain": [
       "6"
      ]
     },
     "execution_count": 16,
     "metadata": {},
     "output_type": "execute_result"
    }
   ],
   "source": [
    "5*2-4"
   ]
  },
  {
   "cell_type": "markdown",
   "id": "d2dc1a11",
   "metadata": {},
   "source": [
    "5. This assignment statements, like spam = 10. What is the difference between an expression and a statement?<br>\n",
    "\n",
    "Ans: An expression is a combination of values, variables, and operators that can be evaluated to produce a result, such as 2+3.\n",
    "A statement, on the other hand, is a code that performs an action, such as assigning a value to a variable (e.g., spam = 10) or calling a function."
   ]
  },
  {
   "cell_type": "markdown",
   "id": "909b130a",
   "metadata": {},
   "source": [
    "6. After running the following code, what does the variable bacon contain?<br>\n",
    "\n",
    "bacon = 22 <br>\n",
    "bacon + 1  <br>\n",
    "\n",
    "Ans: Since bacon value is set to 22 and is never changed thus bacon will contain 22.\n",
    "\n"
   ]
  },
  {
   "cell_type": "markdown",
   "id": "af688cce",
   "metadata": {},
   "source": [
    "7. What should the values of the following two terms be?<br>\n",
    "'spam' + 'spamspam' <br>\n",
    "'spam' * 3 <br>\n",
    "\n",
    "Ans: First expression will be evaluated to 'spamspamspam', and we will be getting same result ('spamspamspam') for second expression too.\n"
   ]
  },
  {
   "cell_type": "code",
   "execution_count": 17,
   "id": "e0365550",
   "metadata": {},
   "outputs": [
    {
     "data": {
      "text/plain": [
       "'spamspamspam'"
      ]
     },
     "execution_count": 17,
     "metadata": {},
     "output_type": "execute_result"
    }
   ],
   "source": [
    "'spam'+'spamspam'"
   ]
  },
  {
   "cell_type": "code",
   "execution_count": 18,
   "id": "aeb6114f",
   "metadata": {},
   "outputs": [
    {
     "data": {
      "text/plain": [
       "'spamspamspam'"
      ]
     },
     "execution_count": 18,
     "metadata": {},
     "output_type": "execute_result"
    }
   ],
   "source": [
    "'spam'*3"
   ]
  },
  {
   "cell_type": "markdown",
   "id": "c52b034d",
   "metadata": {},
   "source": [
    "8. Why is eggs a valid variable name while 100 is invalid?<br>\n",
    "\n",
    "Ans: It is required to have a variable name other than just numeric values in python rules. Since eggs contain letters thus is a valid variable name while 100 is totally numeric value and cannot be a variable name, if it would contain just one letter prior to 100 like i100 then it would be a valid variable name"
   ]
  },
  {
   "cell_type": "code",
   "execution_count": 19,
   "id": "0799c089",
   "metadata": {},
   "outputs": [
    {
     "ename": "SyntaxError",
     "evalue": "cannot assign to literal (1159011558.py, line 1)",
     "output_type": "error",
     "traceback": [
      "\u001b[1;36m  Input \u001b[1;32mIn [19]\u001b[1;36m\u001b[0m\n\u001b[1;33m    100 = 200\u001b[0m\n\u001b[1;37m    ^\u001b[0m\n\u001b[1;31mSyntaxError\u001b[0m\u001b[1;31m:\u001b[0m cannot assign to literal\n"
     ]
    }
   ],
   "source": [
    "100 = 200"
   ]
  },
  {
   "cell_type": "code",
   "execution_count": 20,
   "id": "0cd8f0f9",
   "metadata": {},
   "outputs": [
    {
     "data": {
      "text/plain": [
       "200"
      ]
     },
     "execution_count": 20,
     "metadata": {},
     "output_type": "execute_result"
    }
   ],
   "source": [
    "i100 = 200\n",
    "i100"
   ]
  },
  {
   "cell_type": "markdown",
   "id": "00b5d096",
   "metadata": {},
   "source": [
    "9. What three functions can be used to get the integer, floating-point number, or string version of a value?<br>\n",
    "\n",
    "Ans: int(),float() and str() functions will evaluate respectively integer,floating-point number and string version of the values."
   ]
  },
  {
   "cell_type": "markdown",
   "id": "8c7456ba",
   "metadata": {},
   "source": [
    "10. Why does this expression cause an error? How can you fix it?<br>\n",
    "'I have eaten ' + 99 + ' burritos.' <br>\n"
   ]
  },
  {
   "cell_type": "code",
   "execution_count": 21,
   "id": "bb6aa46d",
   "metadata": {},
   "outputs": [
    {
     "ename": "TypeError",
     "evalue": "can only concatenate str (not \"int\") to str",
     "output_type": "error",
     "traceback": [
      "\u001b[1;31m---------------------------------------------------------------------------\u001b[0m",
      "\u001b[1;31mTypeError\u001b[0m                                 Traceback (most recent call last)",
      "Input \u001b[1;32mIn [21]\u001b[0m, in \u001b[0;36m<cell line: 2>\u001b[1;34m()\u001b[0m\n\u001b[0;32m      1\u001b[0m \u001b[38;5;66;03m# Taking a look to what error does it cause\u001b[39;00m\n\u001b[1;32m----> 2\u001b[0m \u001b[38;5;124;43m'\u001b[39;49m\u001b[38;5;124;43mI have eaten \u001b[39;49m\u001b[38;5;124;43m'\u001b[39;49m\u001b[43m \u001b[49m\u001b[38;5;241;43m+\u001b[39;49m\u001b[43m \u001b[49m\u001b[38;5;241;43m99\u001b[39;49m \u001b[38;5;241m+\u001b[39m \u001b[38;5;124m'\u001b[39m\u001b[38;5;124m burritos.\u001b[39m\u001b[38;5;124m'\u001b[39m\n",
      "\u001b[1;31mTypeError\u001b[0m: can only concatenate str (not \"int\") to str"
     ]
    }
   ],
   "source": [
    "# Taking a look to what error does it cause\n",
    "'I have eaten ' + 99 + ' burritos.'\n"
   ]
  },
  {
   "cell_type": "code",
   "execution_count": 22,
   "id": "af718912",
   "metadata": {},
   "outputs": [
    {
     "data": {
      "text/plain": [
       "'I have eaten 99 burritos.'"
      ]
     },
     "execution_count": 22,
     "metadata": {},
     "output_type": "execute_result"
    }
   ],
   "source": [
    "# we are trying to concatenate strings with integers which is not possible or allowed\n",
    "# to handle this error we can simply convert 99 into string\n",
    "\n",
    "'I have eaten ' + '99' + ' burritos.'"
   ]
  },
  {
   "cell_type": "code",
   "execution_count": 23,
   "id": "0900edec",
   "metadata": {},
   "outputs": [
    {
     "data": {
      "text/plain": [
       "'I have eaten 99 burritos.'"
      ]
     },
     "execution_count": 23,
     "metadata": {},
     "output_type": "execute_result"
    }
   ],
   "source": [
    "# or if it's a variable and can have different values then we can use str funciton which will convert any number \n",
    "#variable to string \n",
    "'I have eaten ' + str(99)+ ' burritos.'"
   ]
  }
 ],
 "metadata": {
  "kernelspec": {
   "display_name": "Python 3 (ipykernel)",
   "language": "python",
   "name": "python3"
  },
  "language_info": {
   "codemirror_mode": {
    "name": "ipython",
    "version": 3
   },
   "file_extension": ".py",
   "mimetype": "text/x-python",
   "name": "python",
   "nbconvert_exporter": "python",
   "pygments_lexer": "ipython3",
   "version": "3.9.12"
  }
 },
 "nbformat": 4,
 "nbformat_minor": 5
}
