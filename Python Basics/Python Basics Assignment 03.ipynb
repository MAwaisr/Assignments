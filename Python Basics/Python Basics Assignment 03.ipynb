{
 "cells": [
  {
   "cell_type": "markdown",
   "id": "8f19d7e9",
   "metadata": {},
   "source": [
    "## Assignment 03"
   ]
  },
  {
   "cell_type": "markdown",
   "id": "c46ae430",
   "metadata": {},
   "source": [
    "1. Why are functions advantageous to have in your programs?\n"
   ]
  },
  {
   "cell_type": "markdown",
   "id": "5d8ea417",
   "metadata": {},
   "source": [
    "Ans: While making a project, we will be dealing with such iterations or tasks that needs to be performed again and again, therefore, instead of writing whole code for the process again and again, we can just write the logic in a function and then call that function anywhere with just one line of code. Also functions are to divide tasks among developers for making projects on a large scale."
   ]
  },
  {
   "cell_type": "markdown",
   "id": "84d4fbff",
   "metadata": {},
   "source": [
    "2. When does the code in a function run: when it's specified or when it's called?\n"
   ]
  },
  {
   "cell_type": "markdown",
   "id": "41319cbc",
   "metadata": {},
   "source": [
    "Ans: A function is run when is it called. "
   ]
  },
  {
   "cell_type": "markdown",
   "id": "42579417",
   "metadata": {},
   "source": [
    "3. What statement creates a function?\n"
   ]
  },
  {
   "cell_type": "markdown",
   "id": "846c07c7",
   "metadata": {},
   "source": [
    "In python def is used to create a function\n",
    "Example is shown below"
   ]
  },
  {
   "cell_type": "code",
   "execution_count": 1,
   "id": "81973d9f",
   "metadata": {},
   "outputs": [
    {
     "data": {
      "text/plain": [
       "7"
      ]
     },
     "execution_count": 1,
     "metadata": {},
     "output_type": "execute_result"
    }
   ],
   "source": [
    "def Sum(a,b):  #To define a function\n",
    "    return a+b # This function returns the sum\n",
    "Sum(3,4)"
   ]
  },
  {
   "cell_type": "markdown",
   "id": "3eace345",
   "metadata": {},
   "source": [
    "3. What statement creates a function"
   ]
  },
  {
   "cell_type": "markdown",
   "id": "20da43c8",
   "metadata": {},
   "source": [
    "<pre>\n",
    "Ans: Answere would be same as the above one, more generally,\n",
    "    >>def function_name():\n",
    "    >>    # function code here\n",
    "    >>    return\n",
    "        </pre>"
   ]
  },
  {
   "cell_type": "markdown",
   "id": "9fbb639f",
   "metadata": {},
   "source": [
    "4. What is the difference between a function and a function call?\n"
   ]
  },
  {
   "cell_type": "markdown",
   "id": "06481ea6",
   "metadata": {},
   "source": [
    "Function means the purpose or the definition of the function while function call is the statement when we are calling a functio like in above example def Sum() is the function defined, and below Sum(3,4) is the function call. "
   ]
  },
  {
   "cell_type": "markdown",
   "id": "ae2bfddd",
   "metadata": {},
   "source": [
    "5. How many global scopes are there in a Python program? How many local scopes?\n"
   ]
  },
  {
   "cell_type": "markdown",
   "id": "0e5d6ada",
   "metadata": {},
   "source": [
    "In python, there is one global scope defined on the outermost layer of the program. Variables defined in this scope can be accessed from anywhere in the program. While in case of local variables, python can have multiple local variables."
   ]
  },
  {
   "cell_type": "markdown",
   "id": "15a41f93",
   "metadata": {},
   "source": [
    "6. What happens to variables in a local scope when the function call returns?\n"
   ]
  },
  {
   "cell_type": "markdown",
   "id": "b26900ca",
   "metadata": {},
   "source": [
    "Ans: A local variable of a function created whenever a funciton is called and is destroyed when the function returns."
   ]
  },
  {
   "cell_type": "markdown",
   "id": "0a6885a7",
   "metadata": {},
   "source": [
    "7. What is the concept of a return value? Is it possible to have a return value in an expression?"
   ]
  },
  {
   "cell_type": "markdown",
   "id": "12018d91",
   "metadata": {},
   "source": [
    "Ans: A return value is the value that a function call evaluates to. Like any value, a return value can be used as part of an expression."
   ]
  },
  {
   "cell_type": "markdown",
   "id": "177aaef1",
   "metadata": {},
   "source": [
    "8. If a function does not have a return statement, what is the return value of a call to that function?\n"
   ]
  },
  {
   "cell_type": "markdown",
   "id": "7782c52c",
   "metadata": {},
   "source": [
    " Ans: If there is no return statement for a function, its return value is None."
   ]
  },
  {
   "cell_type": "markdown",
   "id": "e01826df",
   "metadata": {},
   "source": [
    "9. How do you make a function variable refer to the global variable?\n"
   ]
  },
  {
   "cell_type": "markdown",
   "id": "2778d5b5",
   "metadata": {},
   "source": [
    "Ans: to make a function variable as global variable we can use global command"
   ]
  },
  {
   "cell_type": "code",
   "execution_count": 8,
   "id": "05e6d7e7",
   "metadata": {},
   "outputs": [
    {
     "data": {
      "text/plain": [
       "5"
      ]
     },
     "execution_count": 8,
     "metadata": {},
     "output_type": "execute_result"
    }
   ],
   "source": [
    "def fuc():\n",
    "    global x\n",
    "    x = 5\n",
    "    return x \n",
    "\n",
    "x # works thus it is a global variable"
   ]
  },
  {
   "cell_type": "markdown",
   "id": "0e5bdc10",
   "metadata": {},
   "source": [
    "10. What is the data type of None?"
   ]
  },
  {
   "cell_type": "markdown",
   "id": "eca8e187",
   "metadata": {},
   "source": [
    "Ans: 'None' is the built-in constant object that represents the absence of value or a null value. It is used to represent null value or when a function does not return a value"
   ]
  },
  {
   "cell_type": "markdown",
   "id": "a85a6941",
   "metadata": {},
   "source": [
    "11. What does the sentence import areallyourpetsnamederic do?\n"
   ]
  },
  {
   "cell_type": "markdown",
   "id": "0444475d",
   "metadata": {},
   "source": [
    "Ans: That import statement imports a module named areallyourpetsnamederic."
   ]
  },
  {
   "cell_type": "markdown",
   "id": "a658a5d7",
   "metadata": {},
   "source": [
    "12. If you had a bacon() feature in a spam module, what would you call it after importing spam?\n"
   ]
  },
  {
   "cell_type": "markdown",
   "id": "4c2660ed",
   "metadata": {},
   "source": [
    "Ans: The function bacon can be called using spam.bacon()"
   ]
  },
  {
   "cell_type": "markdown",
   "id": "abe9ae2b",
   "metadata": {},
   "source": [
    "13. What can you do to save a programme from crashing if it encounters an error?"
   ]
  },
  {
   "cell_type": "markdown",
   "id": "1c9fd374",
   "metadata": {},
   "source": [
    "Ans: Place the line of code that might cause an error in a try clause and use except block to handle the error."
   ]
  },
  {
   "cell_type": "markdown",
   "id": "bde4b235",
   "metadata": {},
   "source": [
    "14. What is the purpose of the try clause? What is the purpose of the except clause?"
   ]
  },
  {
   "cell_type": "markdown",
   "id": "d2450788",
   "metadata": {},
   "source": [
    "Ans: The code that can cause an error goes in the try clause. The code that executes if an error happens goes in the except clause."
   ]
  }
 ],
 "metadata": {
  "kernelspec": {
   "display_name": "Python 3 (ipykernel)",
   "language": "python",
   "name": "python3"
  },
  "language_info": {
   "codemirror_mode": {
    "name": "ipython",
    "version": 3
   },
   "file_extension": ".py",
   "mimetype": "text/x-python",
   "name": "python",
   "nbconvert_exporter": "python",
   "pygments_lexer": "ipython3",
   "version": "3.9.12"
  }
 },
 "nbformat": 4,
 "nbformat_minor": 5
}
