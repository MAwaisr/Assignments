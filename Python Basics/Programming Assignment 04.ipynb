{
 "cells": [
  {
   "cell_type": "markdown",
   "id": "627883bc",
   "metadata": {},
   "source": [
    "## Programming Assignment 04"
   ]
  },
  {
   "cell_type": "markdown",
   "id": "ccbda3e1",
   "metadata": {},
   "source": [
    "1.\tWrite a Python Program to Find the Factorial of a Number?\n",
    "2.\tWrite a Python Program to Display the multiplication Table?\n",
    "3.\tWrite a Python Program to Print the Fibonacci sequence?\n",
    "4.\tWrite a Python Program to Check Armstrong Number?\n",
    "5.\tWrite a Python Program to Find Armstrong Number in an Interval?\n",
    "6.\tWrite a Python Program to Find the Sum of Natural Numbers?\n"
   ]
  },
  {
   "cell_type": "markdown",
   "id": "dbb08ea8",
   "metadata": {},
   "source": [
    "1.\tWrite a Python Program to Find the Factorial of a Number?\n"
   ]
  },
  {
   "cell_type": "code",
   "execution_count": 1,
   "id": "0aa4c3a5",
   "metadata": {},
   "outputs": [
    {
     "name": "stdout",
     "output_type": "stream",
     "text": [
      "120\n"
     ]
    }
   ],
   "source": [
    "# n! = n*(n-1)*(n-2)*(n-3)*....1\n",
    "\n",
    "def factorial(num):\n",
    "    ans = 1\n",
    "    for i in range(1,(num+1) ):\n",
    "        ans = ans*i\n",
    "        num-=num\n",
    "    return ans\n",
    "\n",
    "print(factorial(5))\n"
   ]
  },
  {
   "cell_type": "code",
   "execution_count": 2,
   "id": "b5be0587",
   "metadata": {},
   "outputs": [
    {
     "name": "stdout",
     "output_type": "stream",
     "text": [
      "720\n"
     ]
    }
   ],
   "source": [
    "print(factorial(6))"
   ]
  },
  {
   "cell_type": "markdown",
   "id": "141f85c4",
   "metadata": {},
   "source": [
    "2.\tWrite a Python Program to Display the multiplication Table?\n"
   ]
  },
  {
   "cell_type": "code",
   "execution_count": 3,
   "id": "34a2ca20",
   "metadata": {},
   "outputs": [
    {
     "name": "stdout",
     "output_type": "stream",
     "text": [
      "Enter number to get its multiplication table: 10\n",
      "10 * 1 = 10\n",
      "10 * 2 = 20\n",
      "10 * 3 = 30\n",
      "10 * 4 = 40\n",
      "10 * 5 = 50\n",
      "10 * 6 = 60\n",
      "10 * 7 = 70\n",
      "10 * 8 = 80\n",
      "10 * 9 = 90\n",
      "10 * 10 = 100\n"
     ]
    }
   ],
   "source": [
    "a  = int(input(\"Enter number to get its multiplication table: \"))\n",
    "ans = 1\n",
    "for i in range(1,11):\n",
    "    ans = a*i\n",
    "    print(\"{} * {} = {}\".format( a ,i, ans ))"
   ]
  },
  {
   "cell_type": "markdown",
   "id": "57191329",
   "metadata": {},
   "source": [
    "3.\tWrite a Python Program to Print the Fibonacci sequence?\n"
   ]
  },
  {
   "cell_type": "code",
   "execution_count": 4,
   "id": "d86f3476",
   "metadata": {},
   "outputs": [
    {
     "name": "stdout",
     "output_type": "stream",
     "text": [
      "0\n",
      "1\n",
      "1\n",
      "2\n",
      "3\n",
      "5\n",
      "8\n",
      "13\n",
      "21\n",
      "34\n",
      "55\n",
      "89\n",
      "144\n",
      "233\n",
      "377\n",
      "610\n",
      "987\n",
      "1597\n",
      "2584\n",
      "4181\n",
      "6765\n",
      "10946\n",
      "17711\n"
     ]
    }
   ],
   "source": [
    "# 1 1 2 3 5 8 13\n",
    "# In fibonacci sequence, each number is sum of its precceding two numbers\n",
    "# to write fibonacci sequence upto a number a \n",
    "a = 20 # number upto which we want to generate fibonacci series\n",
    "t1 = 0\n",
    "t2 = 1\n",
    "for i in range(0,a+1):\n",
    "    if i<2 and i>=0:\n",
    "        print(i)\n",
    "    ans = t1+t2\n",
    "    print(ans)\n",
    "    t1 = t2\n",
    "    t2 = ans\n",
    "    "
   ]
  },
  {
   "cell_type": "markdown",
   "id": "511b85b5",
   "metadata": {},
   "source": [
    "4.\tWrite a Python Program to Check Armstrong Number?\n"
   ]
  },
  {
   "cell_type": "markdown",
   "id": "3d533602",
   "metadata": {},
   "source": [
    "numbers in which the number is equal to the summ of digits with each having power of a number that is the total number of digits in that number \n",
    "5^6 4^6 8^6 8^6 3^6 4^6 =? Calculate the sum obtained by raising each of the digits to the power of six and adding together the sum of the terms obtained. The total is 548834 which is the original number itself. Thus 548834 is an Armstrong number"
   ]
  },
  {
   "cell_type": "code",
   "execution_count": 5,
   "id": "ae78f24f",
   "metadata": {},
   "outputs": [],
   "source": [
    "# For logic, first we have to find how many total digits are there in a number then we have to take each digit by using decimal \n",
    "# topologies, then raised each number to the total digit numbers and finally add them "
   ]
  },
  {
   "cell_type": "code",
   "execution_count": 6,
   "id": "876a280f",
   "metadata": {},
   "outputs": [
    {
     "name": "stdout",
     "output_type": "stream",
     "text": [
      "Enter a number: 10\n",
      "10 is a Not Armstrong Number\n",
      "Enter a number: 1634\n",
      "1634 is a Armstrong Number\n"
     ]
    }
   ],
   "source": [
    "def checkArmstrongNumber():\n",
    "    in_num = input('Enter a number: ')\n",
    "    num = int(in_num)\n",
    "    count = 0\n",
    "    while num != 0:\n",
    "        count += 1\n",
    "        num //= 10\n",
    "    sum = 0\n",
    "    for char in range(len(in_num)):\n",
    "        sum = sum + pow(int(in_num[char]),count)\n",
    "    if sum == int(in_num):\n",
    "        print(f'{in_num} is a Armstrong Number')\n",
    "    else:\n",
    "        print(f'{in_num} is a Not Armstrong Number')\n",
    "\n",
    "for x in range(2):\n",
    "    checkArmstrongNumber()"
   ]
  },
  {
   "cell_type": "markdown",
   "id": "7bcc0eda",
   "metadata": {},
   "source": [
    "5.\tWrite a Python Program to Find Armstrong Number in an Interval?\n"
   ]
  },
  {
   "cell_type": "code",
   "execution_count": 12,
   "id": "231995fb",
   "metadata": {},
   "outputs": [
    {
     "name": "stdout",
     "output_type": "stream",
     "text": [
      "Enter the Start of the Interval: 1\n",
      "Enter the End of the Interval: 1634\n",
      "The Armstrong numbers between 10 and 1634 are [1, 2, 3, 4, 5, 6, 7, 8, 9, 153, 370, 371, 407]\n"
     ]
    }
   ],
   "source": [
    "def checkArmstrongNum(in_num, storage):\n",
    "    sum = 0\n",
    "    for char in range(len(in_num)):\n",
    "        sum = sum + pow(int(in_num[char]),3)\n",
    "    if sum == int(in_num):\n",
    "        storage.append(int(in_num))\n",
    "\n",
    "start_interval = int(input('Enter the Start of the Interval: '))\n",
    "end_interval = int(input('Enter the End of the Interval: '))\n",
    "list_of_armstrong = []\n",
    "\n",
    "if start_interval > end_interval:\n",
    "    print(\"Start Interval Cannot be Greater than End Interval\")\n",
    "\n",
    "else:\n",
    "    for number in range(start_interval,end_interval+1):\n",
    "        if start_interval<=9:\n",
    "            list_of_armstrong.append(start_interval)\n",
    "            start_interval+=1\n",
    "        else:\n",
    "            checkArmstrongNum(str(number),list_of_armstrong)\n",
    "print(f'The Armstrong numbers between {start_interval} and {end_interval} are {list_of_armstrong}')"
   ]
  },
  {
   "cell_type": "markdown",
   "id": "7cd005b4",
   "metadata": {},
   "source": [
    "6.\tWrite a Python Program to Find the Sum of Natural Numbers?\n"
   ]
  },
  {
   "cell_type": "code",
   "execution_count": null,
   "id": "7a74268a",
   "metadata": {},
   "outputs": [],
   "source": [
    "# To find sum of first n natural number\n",
    "a = int(input(\"Enter a number: \"))\n",
    "sum = 0\n",
    "if a>=1:\n",
    "    for i in range(1,a+1):\n",
    "        sum = sum+i\n",
    "    print(sum)\n",
    "else:\n",
    "    print(\"Invalid error\")"
   ]
  }
 ],
 "metadata": {
  "kernelspec": {
   "display_name": "Python 3 (ipykernel)",
   "language": "python",
   "name": "python3"
  },
  "language_info": {
   "codemirror_mode": {
    "name": "ipython",
    "version": 3
   },
   "file_extension": ".py",
   "mimetype": "text/x-python",
   "name": "python",
   "nbconvert_exporter": "python",
   "pygments_lexer": "ipython3",
   "version": "3.9.12"
  }
 },
 "nbformat": 4,
 "nbformat_minor": 5
}
