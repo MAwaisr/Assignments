{
 "cells": [
  {
   "cell_type": "markdown",
   "id": "17dcf19c",
   "metadata": {},
   "source": [
    "## Python Basics Assignment 02 "
   ]
  },
  {
   "cell_type": "markdown",
   "id": "3dd5af67",
   "metadata": {},
   "source": [
    "1.What are the two values of the Boolean data type? How do you write them?"
   ]
  },
  {
   "cell_type": "markdown",
   "id": "1f250d14",
   "metadata": {},
   "source": [
    "Ans: True and False are two values of boolean data type. Note that to denote these values, T and F or True and False are capital letters."
   ]
  },
  {
   "cell_type": "markdown",
   "id": "709d569b",
   "metadata": {},
   "source": [
    "2. What are the three different types of Boolean operators?"
   ]
  },
  {
   "cell_type": "markdown",
   "id": "7a76cef7",
   "metadata": {},
   "source": [
    "Ans: The three boolean operators are <br>1. or <br>2. not <br>3. and"
   ]
  },
  {
   "cell_type": "code",
   "execution_count": 1,
   "id": "19f4ae8c",
   "metadata": {},
   "outputs": [
    {
     "name": "stdout",
     "output_type": "stream",
     "text": [
      "False\n",
      "True\n",
      "False\n"
     ]
    }
   ],
   "source": [
    "a = 100\n",
    "b = 300\n",
    "c = 30\n",
    "print(a>3 and b>500) # and operation\n",
    "print(a<30 or c>4) # or operation\n",
    "print(not(c>3)) # not operation"
   ]
  },
  {
   "cell_type": "markdown",
   "id": "7e3ccb90",
   "metadata": {},
   "source": [
    "3. Make a list of each Boolean operator's truth tables (i.e. every possible combination of Boolean values for the operator and what it evaluate )."
   ]
  },
  {
   "cell_type": "markdown",
   "id": "e818dcb4",
   "metadata": {},
   "source": [
    "Ans: Truth tables of boolean operators are given below<br>\n",
    "\n",
    "Truth Table for **and** operaotor<br>\n",
    "\n",
    "True and True is True <br>\n",
    "True and False is False<br>\n",
    "False and True is False<br>\n",
    "False and False is False<br>\n",
    "\n",
    "Truth Table for **or** operaotor<br>\n",
    "\n",
    "True and True is True<br>\n",
    "True and False is True<br>\n",
    "False and True is True<br>\n",
    "False and False is False<br>\n",
    "\n",
    "Truth Table for **not** operaotor<br>\n",
    "True not is False <br>\n",
    "False not is True<br>"
   ]
  },
  {
   "cell_type": "markdown",
   "id": "bad58c55",
   "metadata": {},
   "source": [
    "4. What are the values of the following expressions?<br>\n",
    "(5 > 4) and (3 == 5)<br>\n",
    "not (5 > 4)<br>\n",
    "(5 > 4) or (3 == 5)<br>\n",
    "not ((5 > 4) or (3 == 5))<br>\n",
    "(True and True) and (True == False)<br>\n",
    "(not False) or (not True)<br>\n"
   ]
  },
  {
   "cell_type": "code",
   "execution_count": 2,
   "id": "1dd73a44",
   "metadata": {},
   "outputs": [
    {
     "name": "stdout",
     "output_type": "stream",
     "text": [
      "False\n",
      "False\n",
      "True\n",
      "False\n",
      "False\n",
      "True\n"
     ]
    }
   ],
   "source": [
    "\n",
    "#Ans:\n",
    "print((5 > 4) and (3 == 5))\n",
    "print(not (5 > 4))\n",
    "print((5 > 4) or (3 == 5))\n",
    "print(not ((5 > 4) or (3 == 5)))\n",
    "print((True and True) and (True == False))\n",
    "print((not False) or (not True))"
   ]
  },
  {
   "cell_type": "markdown",
   "id": "12589b30",
   "metadata": {},
   "source": [
    "5. What are the six comparison operators?"
   ]
  },
  {
   "cell_type": "markdown",
   "id": "2864e107",
   "metadata": {},
   "source": [
    "Ans: <br> \n",
    "**>**    greater than<br>\n",
    "**<**    less than<br>\n",
    "**>=**   greater than or equals to <br>\n",
    "**<=**   less than or equals to <br>\n",
    "**==**   equals to <br>\n",
    "**!=**   not equals to<br> "
   ]
  },
  {
   "cell_type": "markdown",
   "id": "32e51592",
   "metadata": {},
   "source": [
    "6. How do you tell the difference between the equal to and assignment operators?Describe a condition and when you would use one."
   ]
  },
  {
   "cell_type": "code",
   "execution_count": 3,
   "id": "5e437c86",
   "metadata": {},
   "outputs": [
    {
     "name": "stdout",
     "output_type": "stream",
     "text": [
      "True\n"
     ]
    }
   ],
   "source": [
    "num = 5 # here = is an assigning operator and we are basically assigning a value to num\n",
    "# to use equal to we use == which is a conditional operator e.g\n",
    "if num==5:\n",
    "    print(\"True\")"
   ]
  },
  {
   "cell_type": "code",
   "execution_count": 4,
   "id": "c4961b38",
   "metadata": {},
   "outputs": [
    {
     "name": "stdout",
     "output_type": "stream",
     "text": [
      "ham\n",
      "spam\n",
      "spam\n"
     ]
    }
   ],
   "source": [
    "#7. Identify the three blocks in this code:\n",
    "spam = 0\n",
    "if spam == 10:\n",
    "    print('eggs')\n",
    "if spam > 5:\n",
    "    print('bacon')\n",
    "else:\n",
    "    print('ham')\n",
    "print('spam')\n",
    "print('spam')\n"
   ]
  },
  {
   "cell_type": "markdown",
   "id": "7194c0a6",
   "metadata": {},
   "source": [
    "Ans: In Python, code block refers to a collection of code that is in the same block or indent."
   ]
  },
  {
   "cell_type": "code",
   "execution_count": 5,
   "id": "841e59f6",
   "metadata": {},
   "outputs": [
    {
     "name": "stdout",
     "output_type": "stream",
     "text": [
      "ham\n",
      "spam\n",
      "spam\n"
     ]
    }
   ],
   "source": [
    "spam = 0  \n",
    "if spam == 10:  \n",
    "    print('eggs')  # block #1\n",
    "if spam > 5:  \n",
    "    print('bacon')  # block #2\n",
    "else:  \n",
    "    print('ham')  # block #3\n",
    "print('spam')  \n",
    "print('spam')"
   ]
  },
  {
   "cell_type": "markdown",
   "id": "bd42134e",
   "metadata": {},
   "source": [
    "8. Write code that prints Hello if 1 is stored in spam, prints Howdy if 2 is stored in spam, and prints Greetings! if anything else is stored in spam."
   ]
  },
  {
   "cell_type": "code",
   "execution_count": 6,
   "id": "f1405a98",
   "metadata": {},
   "outputs": [
    {
     "name": "stdout",
     "output_type": "stream",
     "text": [
      "Greetings!\n"
     ]
    }
   ],
   "source": [
    "spam = 0\n",
    "if spam==1:\n",
    "    print(\"Hello\")\n",
    "elif spam==2:\n",
    "    print(\"Howdy\")\n",
    "else:\n",
    "    print(\"Greetings!\")"
   ]
  },
  {
   "cell_type": "markdown",
   "id": "99d345db",
   "metadata": {},
   "source": [
    "9.If your programme is stuck in an endless loop, what keys you’ll press?"
   ]
  },
  {
   "cell_type": "markdown",
   "id": "a3ff03fa",
   "metadata": {},
   "source": [
    "Ans: Pressing Ctrl-c will cause the program that is stuck in an infinite loop to stop."
   ]
  },
  {
   "cell_type": "markdown",
   "id": "71b2e2a2",
   "metadata": {},
   "source": [
    "10. How can you tell the difference between break and continue?"
   ]
  },
  {
   "cell_type": "markdown",
   "id": "d68535ea",
   "metadata": {},
   "source": [
    "Break statement terminate the whole loop while continue will stop the current current iteration upto wherever continue is present and then the furthur iterations will continue."
   ]
  },
  {
   "cell_type": "markdown",
   "id": "bc711ac8",
   "metadata": {},
   "source": [
    "11. In a for loop, what is the difference between range(10), range(0, 10), and range(0, 10, 1)?"
   ]
  },
  {
   "cell_type": "markdown",
   "id": "773e2841",
   "metadata": {},
   "source": [
    "The range(10) will range from 0 to 9 <br>\n",
    "The range (0,10) range from 0 to 9 same as above<br>\n",
    "The range(0,10,1) explicitly tells the loop to increase the variable by 1 on each iteration<br>\n",
    "in short all are same, just representation is differnt, 2nd is more exposed than 1 and third is more exposed than 2nd"
   ]
  },
  {
   "cell_type": "markdown",
   "id": "960461ec",
   "metadata": {},
   "source": [
    "12. Write a short program that prints the numbers 1 to 10 using a for loop. Then write an equivalent program that prints the numbers 1 to 10 using a while loop."
   ]
  },
  {
   "cell_type": "code",
   "execution_count": 16,
   "id": "53225d10",
   "metadata": {},
   "outputs": [
    {
     "name": "stdout",
     "output_type": "stream",
     "text": [
      "0 1 2 3 4 5 6 7 8 9 10 "
     ]
    }
   ],
   "source": [
    "for i in range(0,11):\n",
    "    print(i,end=\" \")"
   ]
  },
  {
   "cell_type": "code",
   "execution_count": 17,
   "id": "a347bab8",
   "metadata": {},
   "outputs": [
    {
     "name": "stdout",
     "output_type": "stream",
     "text": [
      "0 1 2 3 4 5 6 7 8 9 10 11 "
     ]
    }
   ],
   "source": [
    "i=0\n",
    "while i<12:\n",
    "    print(i,end=\" \")\n",
    "    i+=1"
   ]
  },
  {
   "cell_type": "markdown",
   "id": "6636a639",
   "metadata": {},
   "source": [
    "13. If you had a function named bacon() inside a module named spam, how would you call it after importing spam?"
   ]
  },
  {
   "cell_type": "markdown",
   "id": "b5ef718b",
   "metadata": {},
   "source": [
    "bacon can be called using spam.bacon() command"
   ]
  }
 ],
 "metadata": {
  "kernelspec": {
   "display_name": "Python 3 (ipykernel)",
   "language": "python",
   "name": "python3"
  },
  "language_info": {
   "codemirror_mode": {
    "name": "ipython",
    "version": 3
   },
   "file_extension": ".py",
   "mimetype": "text/x-python",
   "name": "python",
   "nbconvert_exporter": "python",
   "pygments_lexer": "ipython3",
   "version": "3.9.12"
  }
 },
 "nbformat": 4,
 "nbformat_minor": 5
}
