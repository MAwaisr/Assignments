{
 "cells": [
  {
   "cell_type": "markdown",
   "id": "a8955134",
   "metadata": {},
   "source": [
    "## Python Programming Assignment 06"
   ]
  },
  {
   "cell_type": "markdown",
   "id": "cc69f124",
   "metadata": {},
   "source": [
    "<pre>\n",
    "1.\tWrite a Python Program to Display Fibonacci Sequence Using Recursion?\n",
    "2.\tWrite a Python Program to Find Factorial of Number Using Recursion?\n",
    "3.\tWrite a Python Program to calculate your Body Mass Index?\n",
    "4.\tWrite a Python Program to calculate the natural logarithm of any number?\n",
    "5.\tWrite a Python Program for cube sum of first n natural numbers?\n",
    "<pre>\n"
   ]
  },
  {
   "cell_type": "markdown",
   "id": "4a6d26be",
   "metadata": {},
   "source": [
    "1.\tWrite a Python Program to Display Fibonacci Sequence Using Recursion?\n"
   ]
  },
  {
   "cell_type": "code",
   "execution_count": 17,
   "id": "e9665aae",
   "metadata": {},
   "outputs": [
    {
     "name": "stdout",
     "output_type": "stream",
     "text": [
      "0 1 1 2 3 5 8 13 21 34 "
     ]
    }
   ],
   "source": [
    "# fibonacci series is given by  [0 1 1 2 3 5 8 13 21 34] that shows that each num is the sum of previous two number\n",
    "\n",
    "def fib(num):\n",
    "    if num==0:\n",
    "        return num\n",
    "    if num==1 or num==2:\n",
    "        return 1\n",
    "    else:\n",
    "        return fib(num-1)+fib(num-2)\n",
    "\n",
    "pos = 5 # nth fibonacci number (starting from zeroth position and so on)\n",
    "\n",
    "for i in range(10):\n",
    "    print(fib(i),end=\" \")"
   ]
  },
  {
   "cell_type": "markdown",
   "id": "f0a2a79e",
   "metadata": {},
   "source": [
    "2.\tWrite a Python Program to Find Factorial of Number Using Recursion?\n"
   ]
  },
  {
   "cell_type": "code",
   "execution_count": 30,
   "id": "56f69683",
   "metadata": {},
   "outputs": [
    {
     "name": "stdout",
     "output_type": "stream",
     "text": [
      "Factorial of 0  =  0\n",
      "Factorial of 1  =  1\n",
      "Factorial of 2  =  2\n",
      "Factorial of 3  =  6\n",
      "Factorial of 4  =  24\n",
      "Factorial of 5  =  120\n",
      "Factorial of 6  =  720\n",
      "Error: factorial of negative number does not exist!\n"
     ]
    }
   ],
   "source": [
    "# Factorial is given by: 6! = 6*5*4*3*3*2*1 = 720\n",
    "\n",
    "def fac(num):\n",
    "    if num<0:\n",
    "        return \"Error: factorial of negative number does not exist!\" \n",
    "    if num==0:\n",
    "        return int(0)\n",
    "    if num==1:\n",
    "        return num\n",
    "    else:\n",
    "        return num*fac(num-1)\n",
    "\n",
    "\n",
    "\n",
    "for i in range(7):\n",
    "    print(f\"Factorial of {i}  =  {fac(i)}\")\n",
    "    \n",
    "print(fac(-4))"
   ]
  },
  {
   "cell_type": "markdown",
   "id": "3fa73ad8",
   "metadata": {},
   "source": [
    "3.\tWrite a Python Program to calculate your Body Mass Index?\n"
   ]
  },
  {
   "cell_type": "code",
   "execution_count": 49,
   "id": "bdae109e",
   "metadata": {},
   "outputs": [
    {
     "name": "stdout",
     "output_type": "stream",
     "text": [
      "32.42617255356109\n"
     ]
    }
   ],
   "source": [
    "# Body mass index is given by = weight(kg)/height(meters)\n",
    "\n",
    "def bmi(weight=0,height=1):\n",
    "    if height<=0 or weight<=0:\n",
    "        return \"Invalid value!\"\n",
    "    else:\n",
    "        return weight/height\n",
    "\n",
    "ans = bmi(56,1.727)\n",
    "print(ans)"
   ]
  },
  {
   "cell_type": "markdown",
   "id": "1860907d",
   "metadata": {},
   "source": [
    "4.\tWrite a Python Program to calculate the natural logarithm of any number?\n"
   ]
  },
  {
   "cell_type": "code",
   "execution_count": 37,
   "id": "b757b80d",
   "metadata": {},
   "outputs": [
    {
     "name": "stdout",
     "output_type": "stream",
     "text": [
      "1.609\n",
      "0.998\n"
     ]
    }
   ],
   "source": [
    "import math\n",
    "def natlog(num):\n",
    "    return round(math.log(num),3)\n",
    "\n",
    "\n",
    "print(natlog(5))\n",
    "print(natlog(2.712))"
   ]
  },
  {
   "cell_type": "markdown",
   "id": "0226e66c",
   "metadata": {},
   "source": [
    "5.\tWrite a Python Program for cube sum of first n natural numbers?"
   ]
  },
  {
   "cell_type": "markdown",
   "id": "29c6188e",
   "metadata": {},
   "source": [
    "Sum of first n natural numbers is given by <br>\n",
    "\n",
    "$$ \\text{sum} = \\frac{n \\cdot (n+1)}{2} $$\n"
   ]
  },
  {
   "cell_type": "code",
   "execution_count": 42,
   "id": "e27bfbd4",
   "metadata": {},
   "outputs": [],
   "source": [
    "def nat_sum(num):\n",
    "    return int(num * (num+1)/2)"
   ]
  },
  {
   "cell_type": "code",
   "execution_count": 48,
   "id": "e34487d9",
   "metadata": {},
   "outputs": [
    {
     "name": "stdout",
     "output_type": "stream",
     "text": [
      "Sum of first 3 natural numbers is: 6\n",
      "Sum of first 4 natural numbers is: 10\n",
      "Sum of first 5 natural numbers is: 15\n",
      "Sum of first 6 natural numbers is: 21\n"
     ]
    }
   ],
   "source": [
    "for i in range(3,7):\n",
    "    print(f\"Sum of first {i} natural numbers is: {nat_sum(i)}\")"
   ]
  },
  {
   "cell_type": "code",
   "execution_count": null,
   "id": "5ef36a68",
   "metadata": {},
   "outputs": [],
   "source": []
  }
 ],
 "metadata": {
  "kernelspec": {
   "display_name": "Python 3 (ipykernel)",
   "language": "python",
   "name": "python3"
  },
  "language_info": {
   "codemirror_mode": {
    "name": "ipython",
    "version": 3
   },
   "file_extension": ".py",
   "mimetype": "text/x-python",
   "name": "python",
   "nbconvert_exporter": "python",
   "pygments_lexer": "ipython3",
   "version": "3.11.4"
  }
 },
 "nbformat": 4,
 "nbformat_minor": 5
}
