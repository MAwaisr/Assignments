{
 "cells": [
  {
   "cell_type": "markdown",
   "id": "a166a85f",
   "metadata": {},
   "source": [
    "## Basic Python Programming Assignment 10"
   ]
  },
  {
   "cell_type": "markdown",
   "id": "b32a2a3d",
   "metadata": {},
   "source": [
    "1.\tWrite a Python program to find sum of elements in list?\n"
   ]
  },
  {
   "cell_type": "code",
   "execution_count": 18,
   "id": "32a89a05",
   "metadata": {},
   "outputs": [
    {
     "name": "stdout",
     "output_type": "stream",
     "text": [
      "15\n"
     ]
    }
   ],
   "source": [
    "def sumlist(list):\n",
    "    sum = 0\n",
    "    for i in range(0,len(list)):\n",
    "        sum = sum+list[i]\n",
    "    print(sum)\n",
    "sumlist([1,2,3,4,5])"
   ]
  },
  {
   "cell_type": "markdown",
   "id": "4082f338",
   "metadata": {},
   "source": [
    "2.\tWrite a Python program to  Multiply all numbers in the list?\n"
   ]
  },
  {
   "cell_type": "code",
   "execution_count": 19,
   "id": "2bb91cd5",
   "metadata": {},
   "outputs": [
    {
     "name": "stdout",
     "output_type": "stream",
     "text": [
      "120\n"
     ]
    }
   ],
   "source": [
    "def mullist(list):\n",
    "    sum = 1\n",
    "    for i in range(0,len(list)):\n",
    "        sum = sum*list[i]\n",
    "    print(sum)\n",
    "mullist([1,2,3,4,5])"
   ]
  },
  {
   "cell_type": "markdown",
   "id": "409529a4",
   "metadata": {},
   "source": [
    "3.\tWrite a Python program to find smallest number in a list?\n"
   ]
  },
  {
   "cell_type": "code",
   "execution_count": 20,
   "id": "643239d4",
   "metadata": {},
   "outputs": [
    {
     "name": "stdout",
     "output_type": "stream",
     "text": [
      "1\n"
     ]
    }
   ],
   "source": [
    "def minlist(list):\n",
    "    min = list[1]\n",
    "    for i in range(0,len(list)):\n",
    "        if min>list[i]:\n",
    "            min = list[i]\n",
    "    print(min)\n",
    "    \n",
    "    \n",
    "minlist([2,3,4,5,1,3,4,5])"
   ]
  },
  {
   "cell_type": "markdown",
   "id": "91acb2ed",
   "metadata": {},
   "source": [
    "4.\tWrite a Python program to find largest number in a list?\n"
   ]
  },
  {
   "cell_type": "code",
   "execution_count": 21,
   "id": "01cc3ef3",
   "metadata": {},
   "outputs": [
    {
     "name": "stdout",
     "output_type": "stream",
     "text": [
      "5\n"
     ]
    }
   ],
   "source": [
    "# To find the largest no in a list\n",
    "def maxlist(list):\n",
    "    max = list[1]\n",
    "    for i in range(0,len(list)):\n",
    "        if max<list[i]:\n",
    "            max = list[i]\n",
    "    print(max)\n",
    "    \n",
    "    \n",
    "maxlist([2,3,4,5,1,3,4,5])"
   ]
  },
  {
   "cell_type": "markdown",
   "id": "03175a95",
   "metadata": {},
   "source": [
    "5.\tWrite a Python program to find second largest number in a list?\n"
   ]
  },
  {
   "cell_type": "code",
   "execution_count": 9,
   "id": "f1d1ea44",
   "metadata": {},
   "outputs": [
    {
     "name": "stdout",
     "output_type": "stream",
     "text": [
      "4\n"
     ]
    }
   ],
   "source": [
    "# To find the 2nd largest no in a list\n",
    "def maxlist(list,N):\n",
    "    max = list[1]\n",
    "    for i in range(0,len(list)):\n",
    "        if max<list[i]:\n",
    "            max = list[i]\n",
    "    # at this point in the code we have largest element in a list, if we remove from list and send the list again to the maxlist\n",
    "    N=N-1\n",
    "    if N>0:\n",
    "        list.remove(max)\n",
    "        maxlist(list,N)\n",
    "    if N==0:    \n",
    "        print(max)\n",
    "    \n",
    "    \n",
    "maxlist([2,3,5,1,3,4],2) # 2nd largest number in a list"
   ]
  },
  {
   "cell_type": "markdown",
   "id": "1ed26e22",
   "metadata": {},
   "source": [
    "6.\tWrite a Python program to find N largest elements from a list?\n"
   ]
  },
  {
   "cell_type": "code",
   "execution_count": 12,
   "id": "93ae2e61",
   "metadata": {},
   "outputs": [
    {
     "name": "stdout",
     "output_type": "stream",
     "text": [
      "3\n"
     ]
    }
   ],
   "source": [
    "# To find the 2nd largest no in a list\n",
    "def maxlist(list,N):\n",
    "    max = list[1]\n",
    "    for i in range(0,len(list)):\n",
    "        if max<list[i]:\n",
    "            max = list[i]\n",
    "    # at this point in the code we have largest element in a list, if we remove from list and send the list again to the maxlist\n",
    "    N=N-1\n",
    "    if N>0:\n",
    "        list.remove(max)\n",
    "        maxlist(list,N)\n",
    "    if N==0:    \n",
    "        print(max)\n",
    "    \n",
    "    \n",
    "maxlist([2,3,5,1,3,4],3) # n largest element in a list"
   ]
  },
  {
   "cell_type": "markdown",
   "id": "86039802",
   "metadata": {},
   "source": [
    "7.\tWrite a Python program to print even numbers in a list?\n"
   ]
  },
  {
   "cell_type": "code",
   "execution_count": 13,
   "id": "ecbe1c10",
   "metadata": {},
   "outputs": [
    {
     "name": "stdout",
     "output_type": "stream",
     "text": [
      "2\n",
      "4\n",
      "6\n",
      "8\n",
      "24\n"
     ]
    }
   ],
   "source": [
    "list = [1,2,3,4,5,6,7,8,23,24]\n",
    "for i in range(0,len(list)):\n",
    "    if list[i]%2==0:\n",
    "        print(list[i])\n",
    "        "
   ]
  },
  {
   "cell_type": "markdown",
   "id": "fc10661f",
   "metadata": {},
   "source": [
    "8.\tWrite a Python program to print odd numbers in a List?\n"
   ]
  },
  {
   "cell_type": "code",
   "execution_count": 14,
   "id": "a252be5f",
   "metadata": {},
   "outputs": [
    {
     "name": "stdout",
     "output_type": "stream",
     "text": [
      "1\n",
      "3\n",
      "5\n",
      "7\n",
      "23\n"
     ]
    }
   ],
   "source": [
    "list = [1,2,3,4,5,6,7,8,23,24]\n",
    "for i in range(0,len(list)):\n",
    "    if list[i]%2!=0:\n",
    "        print(list[i])   "
   ]
  },
  {
   "cell_type": "markdown",
   "id": "cc141fd9",
   "metadata": {},
   "source": [
    "9.\tWrite a Python program to Remove empty List from List?\n"
   ]
  },
  {
   "cell_type": "code",
   "execution_count": 15,
   "id": "6758bd5e",
   "metadata": {},
   "outputs": [
    {
     "data": {
      "text/plain": [
       "[1, 3, 4, 5]"
      ]
     },
     "execution_count": 15,
     "metadata": {},
     "output_type": "execute_result"
    }
   ],
   "source": [
    "list1 = [1,2,3,4,5]\n",
    "list1.remove(2)\n",
    "list1"
   ]
  },
  {
   "cell_type": "markdown",
   "id": "ec287730",
   "metadata": {},
   "source": [
    "10.\tWrite a Python program to Cloning or Copying a list?\n"
   ]
  },
  {
   "cell_type": "code",
   "execution_count": 16,
   "id": "237a69b0",
   "metadata": {},
   "outputs": [
    {
     "data": {
      "text/plain": [
       "[1, 2, 3, 4, 5, 6, 7, 8, 23, 24]"
      ]
     },
     "execution_count": 16,
     "metadata": {},
     "output_type": "execute_result"
    }
   ],
   "source": [
    "list = [1,2,3,4,5,6,7,8,23,24]\n",
    "new_list = list.copy() # copying list into new_list\n",
    "new_list\n"
   ]
  },
  {
   "cell_type": "markdown",
   "id": "18586d5e",
   "metadata": {},
   "source": [
    "11.\tWrite a Python program to Count occurrences of an element in a list?"
   ]
  },
  {
   "cell_type": "code",
   "execution_count": 17,
   "id": "c683ddcb",
   "metadata": {},
   "outputs": [
    {
     "data": {
      "text/plain": [
       "4"
      ]
     },
     "execution_count": 17,
     "metadata": {},
     "output_type": "execute_result"
    }
   ],
   "source": [
    "counting = [1,2,3,4,5,5,4,3,5,6,7,8,5,10]\n",
    "counting.count(5) # counts no of 5's in the list"
   ]
  }
 ],
 "metadata": {
  "kernelspec": {
   "display_name": "Python 3 (ipykernel)",
   "language": "python",
   "name": "python3"
  },
  "language_info": {
   "codemirror_mode": {
    "name": "ipython",
    "version": 3
   },
   "file_extension": ".py",
   "mimetype": "text/x-python",
   "name": "python",
   "nbconvert_exporter": "python",
   "pygments_lexer": "ipython3",
   "version": "3.9.12"
  }
 },
 "nbformat": 4,
 "nbformat_minor": 5
}
