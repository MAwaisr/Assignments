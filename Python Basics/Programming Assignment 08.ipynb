{
 "cells": [
  {
   "cell_type": "markdown",
   "id": "d9153c53",
   "metadata": {},
   "source": [
    "## Programming Assignment 08"
   ]
  },
  {
   "cell_type": "markdown",
   "id": "90621198",
   "metadata": {},
   "source": [
    "<pre>\n",
    "1.\tWrite a Python Program to Add Two Matrices?\n",
    "2.\tWrite a Python Program to Multiply Two Matrices?\n",
    "3.\tWrite a Python Program to Transpose a Matrix?\n",
    "4.\tWrite a Python Program to Sort Words in Alphabetic Order?\n",
    "5.\tWrite a Python Program to Remove Punctuation From a String?\n",
    "<pre>\n"
   ]
  },
  {
   "cell_type": "markdown",
   "id": "b50d6de6",
   "metadata": {},
   "source": [
    "1.\tWrite a Python Program to Add Two Matrices?\n"
   ]
  },
  {
   "cell_type": "code",
   "execution_count": 17,
   "id": "2c7694ac",
   "metadata": {},
   "outputs": [
    {
     "name": "stdout",
     "output_type": "stream",
     "text": [
      "[[2 4 9]\n",
      " [7 9 9]]\n"
     ]
    }
   ],
   "source": [
    "import numpy as np\n",
    "def matrix_add(mat1,mat2):\n",
    "    rows,columns  = mat1.shape \n",
    "    #ans = np.zeros_like(mat1)\n",
    "    if mat1.shape !=mat2.shape:\n",
    "        return \"Error: addition not possible as matrices are having different dimensinos:\"\n",
    "    else:\n",
    "        for i in range(rows):\n",
    "            for j in range(columns):\n",
    "                mat1[i,j] += mat2[i,j]\n",
    "        return mat1\n",
    "        \n",
    "\n",
    "mat1 = np.array([[1,2,4],[3,4,4]])\n",
    "mat2 = np.array([[1,2,5],[4,5,5]])\n",
    "ans = matrix_add(mat1,mat2)\n",
    "print(ans)"
   ]
  },
  {
   "cell_type": "markdown",
   "id": "fa1d8e71",
   "metadata": {},
   "source": [
    "2.\tWrite a Python Program to Multiply Two Matrices?\n"
   ]
  },
  {
   "cell_type": "code",
   "execution_count": 20,
   "id": "06f285ca",
   "metadata": {},
   "outputs": [
    {
     "name": "stdout",
     "output_type": "stream",
     "text": [
      "[[ 9 12]\n",
      " [19 26]]\n"
     ]
    }
   ],
   "source": [
    "def matrix_product(mat1,mat2):\n",
    "    rows1,columns1 = mat1.shape\n",
    "    rows2,columns2 = mat2.shape\n",
    "    if columns1!=rows2:\n",
    "        print( \"Multiplication not possible\")\n",
    "        return False\n",
    "    else:\n",
    "        # code here\n",
    "        return np.dot(mat1,mat2)\n",
    "\n",
    "mat1 = np.array([[1,2],[3,4]])\n",
    "mat2 = np.array([[1,2],[4,5]])\n",
    "ans = matrix_product(mat1,mat2)\n",
    "print(ans)"
   ]
  },
  {
   "cell_type": "markdown",
   "id": "889a1273",
   "metadata": {},
   "source": [
    "3.\tWrite a Python Program to Transpose a Matrix?\n"
   ]
  },
  {
   "cell_type": "code",
   "execution_count": 45,
   "id": "9ffaa5a0",
   "metadata": {},
   "outputs": [
    {
     "name": "stdout",
     "output_type": "stream",
     "text": [
      "Original matrix: \n",
      " [[1 2 3 3]\n",
      " [4 5 6 5]\n",
      " [2 3 4 5]] \n",
      "\n",
      "Transposed matrix: \n",
      "[[1. 4. 2.]\n",
      " [2. 5. 3.]\n",
      " [3. 6. 4.]\n",
      " [3. 5. 5.]]\n"
     ]
    }
   ],
   "source": [
    "def Transpose_matrix(mat1):\n",
    "    rows, columns = mat1.shape\n",
    "    ans = np.zeros(mat1.size).reshape(columns,rows)\n",
    "    for i in range(rows):\n",
    "        for j in range(columns):\n",
    "            ans[j,i] = mat1[i,j]\n",
    "    return ans\n",
    "\n",
    "\n",
    "\n",
    "\n",
    "mat1 = np.array([[1,2,3,3],[4,5,6,5],[2,3,4,5]])\n",
    "print(f\"Original matrix: \\n {mat1} \\n\")\n",
    "\n",
    "print(f\"Transposed matrix: \")\n",
    "print(Transpose_matrix(mat1))"
   ]
  },
  {
   "cell_type": "markdown",
   "id": "a9168a95",
   "metadata": {},
   "source": [
    "4.\tWrite a Python Program to Sort Words in Alphabetic Order?\n"
   ]
  },
  {
   "cell_type": "code",
   "execution_count": 51,
   "id": "e1142305",
   "metadata": {},
   "outputs": [
    {
     "data": {
      "text/plain": [
       "'Write any word you want here'"
      ]
     },
     "execution_count": 51,
     "metadata": {},
     "output_type": "execute_result"
    }
   ],
   "source": [
    "word = \"write Any word you want here\"\n",
    "\n",
    "word.capitalize()"
   ]
  },
  {
   "cell_type": "markdown",
   "id": "c5e947f6",
   "metadata": {},
   "source": [
    "5.\tWrite a Python Program to Remove Punctuation From a String?"
   ]
  },
  {
   "cell_type": "code",
   "execution_count": null,
   "id": "fbf3f4b0",
   "metadata": {},
   "outputs": [],
   "source": []
  },
  {
   "cell_type": "code",
   "execution_count": null,
   "id": "eaf5c4a8",
   "metadata": {},
   "outputs": [],
   "source": []
  },
  {
   "cell_type": "code",
   "execution_count": null,
   "id": "5676c7bf",
   "metadata": {},
   "outputs": [],
   "source": []
  },
  {
   "cell_type": "code",
   "execution_count": null,
   "id": "a3b9b479",
   "metadata": {},
   "outputs": [],
   "source": []
  },
  {
   "cell_type": "code",
   "execution_count": null,
   "id": "c38df043",
   "metadata": {},
   "outputs": [],
   "source": []
  },
  {
   "cell_type": "code",
   "execution_count": null,
   "id": "b6aeea85",
   "metadata": {},
   "outputs": [],
   "source": []
  },
  {
   "cell_type": "code",
   "execution_count": null,
   "id": "9d40086b",
   "metadata": {},
   "outputs": [],
   "source": []
  },
  {
   "cell_type": "code",
   "execution_count": null,
   "id": "2c266805",
   "metadata": {},
   "outputs": [],
   "source": []
  }
 ],
 "metadata": {
  "kernelspec": {
   "display_name": "Python 3 (ipykernel)",
   "language": "python",
   "name": "python3"
  },
  "language_info": {
   "codemirror_mode": {
    "name": "ipython",
    "version": 3
   },
   "file_extension": ".py",
   "mimetype": "text/x-python",
   "name": "python",
   "nbconvert_exporter": "python",
   "pygments_lexer": "ipython3",
   "version": "3.11.4"
  }
 },
 "nbformat": 4,
 "nbformat_minor": 5
}
