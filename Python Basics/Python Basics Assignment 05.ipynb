{
 "cells": [
  {
   "cell_type": "markdown",
   "id": "463d30e0",
   "metadata": {},
   "source": [
    "## Python Basics Assignment 05"
   ]
  },
  {
   "cell_type": "markdown",
   "id": "e46cf8eb",
   "metadata": {},
   "source": [
    "<pre>\n",
    "1. What does an empty dictionary's code look like?\n",
    "2. What is the value of a dictionary value with the key 'foo' and the value 42?\n",
    "3. What is the most significant distinction between a dictionary and a list?\n",
    "4. What happens if you try to access spam['foo'] if spam is {'bar': 100}?\n",
    "5. If a dictionary is stored in spam, what is the difference between the expressions 'cat' in spam and 'cat' in spam.keys()?\n",
    "6. If a dictionary is stored in spam, what is the difference between the expressions 'cat' in spam and 'cat' in spam.values()?\n",
    "7. What is a shortcut for the following code?\n",
    "if 'color' not in spam:\n",
    "spam['color'] = 'black'\n",
    "\n",
    "8. How do you \"pretty print\" dictionary values using which module and function?\n",
    "<pre>"
   ]
  },
  {
   "cell_type": "markdown",
   "id": "f43e9e99",
   "metadata": {},
   "source": [
    "1. What does an empty dictionary's code look like?\n"
   ]
  },
  {
   "cell_type": "markdown",
   "id": "13066597",
   "metadata": {},
   "source": [
    "Ans: In python empty dictionary can be created as "
   ]
  },
  {
   "cell_type": "code",
   "execution_count": 58,
   "id": "87ee5739",
   "metadata": {},
   "outputs": [
    {
     "data": {
      "text/plain": [
       "{}"
      ]
     },
     "execution_count": 58,
     "metadata": {},
     "output_type": "execute_result"
    }
   ],
   "source": [
    "dic = {} # this creates an empty dictionary\n",
    "dic\n"
   ]
  },
  {
   "cell_type": "markdown",
   "id": "8742e2cf",
   "metadata": {},
   "source": [
    "2. What is the value of a dictionary value with the key 'foo' and the value 42?\n"
   ]
  },
  {
   "cell_type": "markdown",
   "id": "cebad417",
   "metadata": {},
   "source": [
    "Ans: value of this dictionary will be equals to 42<br>\n",
    "code:\n"
   ]
  },
  {
   "cell_type": "code",
   "execution_count": 14,
   "id": "18065ac5",
   "metadata": {},
   "outputs": [
    {
     "data": {
      "text/plain": [
       "dict_values([42])"
      ]
     },
     "execution_count": 14,
     "metadata": {},
     "output_type": "execute_result"
    }
   ],
   "source": [
    "dic = {'foo':42}\n",
    "dic.values()"
   ]
  },
  {
   "cell_type": "markdown",
   "id": "5382dcb1",
   "metadata": {},
   "source": [
    "3. What is the most significant distinction between a dictionary and a list?\n"
   ]
  },
  {
   "cell_type": "markdown",
   "id": "7faee7b1",
   "metadata": {},
   "source": [
    "Ans: The most significant distinction between dictionary and a list is of indexing, dictionaries or hashmaps takes keys to store its values so that the values can be retrieved in O(1) time complexity in best case scenario while lists uses built-in indexing in which  each new value is stored consecutively, making the time complexity of search in lists is O(n)"
   ]
  },
  {
   "cell_type": "markdown",
   "id": "ca423ae3",
   "metadata": {},
   "source": [
    "4. What happens if you try to access spam['foo'] if spam is {'bar': 100}?"
   ]
  },
  {
   "cell_type": "markdown",
   "id": "2f0d8cce",
   "metadata": {},
   "source": [
    "Ans: Since there is no such key as 'foo' therefore, it will throw an error"
   ]
  },
  {
   "cell_type": "markdown",
   "id": "b25f7eda",
   "metadata": {},
   "source": [
    "5. If a dictionary is stored in spam, what is the difference between the expressions 'cat' in spam and 'cat' in spam.keys()?\n"
   ]
  },
  {
   "cell_type": "markdown",
   "id": "0a0a2fbc",
   "metadata": {},
   "source": [
    "Ans: In this case both expressions will return True but spam.key() tells us more information (that 'cat' is key and not value)"
   ]
  },
  {
   "cell_type": "code",
   "execution_count": 63,
   "id": "e3f224f1",
   "metadata": {},
   "outputs": [
    {
     "data": {
      "text/plain": [
       "True"
      ]
     },
     "execution_count": 63,
     "metadata": {},
     "output_type": "execute_result"
    }
   ],
   "source": [
    "spam = {'cat':2}\n",
    "'cat' in spam.keys() # checks if 'cat' is included in all the keys present in spam"
   ]
  },
  {
   "cell_type": "code",
   "execution_count": 64,
   "id": "0b0721b5",
   "metadata": {},
   "outputs": [
    {
     "data": {
      "text/plain": [
       "True"
      ]
     },
     "execution_count": 64,
     "metadata": {},
     "output_type": "execute_result"
    }
   ],
   "source": [
    "spam = {'cat':2}\n",
    "'cat' in spam # checks if cat key exists or not"
   ]
  },
  {
   "cell_type": "markdown",
   "id": "84a06bfd",
   "metadata": {},
   "source": [
    "6. If a dictionary is stored in spam, what is the difference between the expressions 'cat' in spam and 'cat' in spam.values()?\n"
   ]
  },
  {
   "cell_type": "markdown",
   "id": "693ff70c",
   "metadata": {},
   "source": [
    "Ans: In this case 'cat' in spam will return True while 'cat' in spam.values() is going to return False "
   ]
  },
  {
   "cell_type": "code",
   "execution_count": 66,
   "id": "47aad33b",
   "metadata": {},
   "outputs": [
    {
     "data": {
      "text/plain": [
       "True"
      ]
     },
     "execution_count": 66,
     "metadata": {},
     "output_type": "execute_result"
    }
   ],
   "source": [
    "spam = {'cat':2}\n",
    "'cat' in spam"
   ]
  },
  {
   "cell_type": "code",
   "execution_count": 67,
   "id": "bda7582b",
   "metadata": {},
   "outputs": [
    {
     "data": {
      "text/plain": [
       "False"
      ]
     },
     "execution_count": 67,
     "metadata": {},
     "output_type": "execute_result"
    }
   ],
   "source": [
    "'cat' in spam.values()"
   ]
  },
  {
   "cell_type": "markdown",
   "id": "8628ed55",
   "metadata": {},
   "source": [
    "<pre>7. What is a shortcut for the following code? \n",
    "if 'color' not in spam:\n",
    "spam['color'] = 'black' <pre>"
   ]
  },
  {
   "cell_type": "markdown",
   "id": "87d9afca",
   "metadata": {},
   "source": [
    "Ans: dic.setdefault() method can be used for this purpose, this function, this function checks if key <br>\n",
    "exists in a dic or not, if not then it sets a default value for that key"
   ]
  },
  {
   "cell_type": "code",
   "execution_count": 68,
   "id": "12453fe9",
   "metadata": {},
   "outputs": [
    {
     "data": {
      "text/plain": [
       "'black'"
      ]
     },
     "execution_count": 68,
     "metadata": {},
     "output_type": "execute_result"
    }
   ],
   "source": [
    "spam.setdefault('color', 'black')\n"
   ]
  },
  {
   "cell_type": "markdown",
   "id": "06ac197f",
   "metadata": {},
   "source": [
    "8. How do you \"pretty print\" dictionary values using which module and function?"
   ]
  },
  {
   "cell_type": "markdown",
   "id": "f6f9a723",
   "metadata": {},
   "source": [
    "Ans: pprint module can be used for this purpose, this pprint.pprint(dictionary) function represents the dictionar in\n",
    "    multiple lines making it more readable"
   ]
  },
  {
   "cell_type": "code",
   "execution_count": 69,
   "id": "202c0ff9",
   "metadata": {},
   "outputs": [
    {
     "name": "stdout",
     "output_type": "stream",
     "text": [
      "{'age': 25,\n",
      " 'city': 'New York',\n",
      " 'email': 'writeyouremail@mail.com',\n",
      " 'name': 'Carter'}\n"
     ]
    }
   ],
   "source": [
    "import pprint\n",
    "\n",
    "# Example dictionary\n",
    "my_dict = {\n",
    "    'name': 'Carter',\n",
    "    'age': 25,\n",
    "    'city': 'New York',\n",
    "    'email': 'writeyouremail@mail.com'\n",
    "}\n",
    "\n",
    "# Pretty print the dictionary\n",
    "pprint.pprint(my_dict)\n"
   ]
  },
  {
   "cell_type": "code",
   "execution_count": 70,
   "id": "3f11f71f",
   "metadata": {},
   "outputs": [
    {
     "name": "stdout",
     "output_type": "stream",
     "text": [
      "{'name': 'Carter', 'age': 25, 'city': 'New York', 'email': 'writeyouremail@mail.com'}\n"
     ]
    }
   ],
   "source": [
    "print(my_dict)"
   ]
  }
 ],
 "metadata": {
  "kernelspec": {
   "display_name": "Python 3 (ipykernel)",
   "language": "python",
   "name": "python3"
  },
  "language_info": {
   "codemirror_mode": {
    "name": "ipython",
    "version": 3
   },
   "file_extension": ".py",
   "mimetype": "text/x-python",
   "name": "python",
   "nbconvert_exporter": "python",
   "pygments_lexer": "ipython3",
   "version": "3.11.4"
  }
 },
 "nbformat": 4,
 "nbformat_minor": 5
}
