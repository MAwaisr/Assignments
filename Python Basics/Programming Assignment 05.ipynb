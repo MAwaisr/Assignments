{
 "cells": [
  {
   "cell_type": "markdown",
   "id": "e8d6ae1f",
   "metadata": {},
   "source": [
    "## Programming Assignment 05"
   ]
  },
  {
   "cell_type": "markdown",
   "id": "fcfa9a24",
   "metadata": {},
   "source": [
    "1.\tWrite a Python Program to Find LCM?\n",
    "2.\tWrite a Python Program to Find HCF?\n",
    "3.\tWrite a Python Program to Convert Decimal to Binary, Octal and Hexadecimal?\n",
    "4.\tWrite a Python Program To Find ASCII value of a character?\n",
    "5.\tWrite a Python Program to Make a Simple Calculator with 4 basic mathematical operations?\n"
   ]
  },
  {
   "cell_type": "markdown",
   "id": "5396bdd8",
   "metadata": {},
   "source": [
    "1.\tWrite a Python Program to Find LCM?\n"
   ]
  },
  {
   "cell_type": "code",
   "execution_count": 1,
   "id": "8ec55c4c",
   "metadata": {},
   "outputs": [
    {
     "data": {
      "text/plain": [
       "6"
      ]
     },
     "execution_count": 1,
     "metadata": {},
     "output_type": "execute_result"
    }
   ],
   "source": [
    "# smallest number divisible by both number is lcm \n",
    "def lcm(a,b):\n",
    "    \n",
    "    i=1\n",
    "    while True:    \n",
    "        if i%a==0 and i%b==0:  \n",
    "            return i\n",
    "        else:\n",
    "            i=i+1\n",
    "            \n",
    "lcm(2,3)"
   ]
  },
  {
   "cell_type": "code",
   "execution_count": 2,
   "id": "d5881190",
   "metadata": {},
   "outputs": [
    {
     "data": {
      "text/plain": [
       "35"
      ]
     },
     "execution_count": 2,
     "metadata": {},
     "output_type": "execute_result"
    }
   ],
   "source": [
    "lcm(5,7)"
   ]
  },
  {
   "cell_type": "markdown",
   "id": "d4f6cd3c",
   "metadata": {},
   "source": [
    "2.\tWrite a Python Program to Find HCF?\n"
   ]
  },
  {
   "cell_type": "code",
   "execution_count": 3,
   "id": "52f27750",
   "metadata": {},
   "outputs": [
    {
     "data": {
      "text/plain": [
       "15"
      ]
     },
     "execution_count": 3,
     "metadata": {},
     "output_type": "execute_result"
    }
   ],
   "source": [
    "def hcf(a,b):\n",
    "    i = max(a,b)\n",
    "    while i>0:  \n",
    "        if a%i==0 and b%i==0:  \n",
    "            return i\n",
    "        else:\n",
    "            i=i-1\n",
    "hcf(60,75)"
   ]
  },
  {
   "cell_type": "code",
   "execution_count": 4,
   "id": "11cc08b1",
   "metadata": {},
   "outputs": [
    {
     "data": {
      "text/plain": [
       "5"
      ]
     },
     "execution_count": 4,
     "metadata": {},
     "output_type": "execute_result"
    }
   ],
   "source": [
    "hcf(10,5)"
   ]
  },
  {
   "cell_type": "markdown",
   "id": "9d1321f1",
   "metadata": {},
   "source": [
    "3.\tWrite a Python Program to Convert Decimal to Binary, Octal and Hexadecimal?\n"
   ]
  },
  {
   "cell_type": "code",
   "execution_count": 5,
   "id": "f7e213b2",
   "metadata": {
    "scrolled": true
   },
   "outputs": [
    {
     "name": "stdout",
     "output_type": "stream",
     "text": [
      "[0, 1, 1, 1]\n"
     ]
    }
   ],
   "source": [
    "# Writing a whole code for dec to binary conversion\n",
    "def dectobin(a):\n",
    "    array = []\n",
    "    while True:\n",
    "        if (a/2)!=0:      \n",
    "            array.append( int(a%2) )\n",
    "        a = int(a/2)\n",
    "        if a/2 ==0:\n",
    "            array.append(int(0))\n",
    "            break\n",
    "    return array[::-1]\n",
    "print(dectobin(7) )"
   ]
  },
  {
   "cell_type": "code",
   "execution_count": 6,
   "id": "c0887354",
   "metadata": {},
   "outputs": [
    {
     "name": "stdout",
     "output_type": "stream",
     "text": [
      "[0, 1, 0, 1, 0, 0]\n"
     ]
    }
   ],
   "source": [
    "print(dectobin(20) )"
   ]
  },
  {
   "cell_type": "code",
   "execution_count": 7,
   "id": "a9b87867",
   "metadata": {
    "scrolled": true
   },
   "outputs": [
    {
     "name": "stdout",
     "output_type": "stream",
     "text": [
      "[0, 1, 1, 1]\n"
     ]
    }
   ],
   "source": [
    "print(dectobin(7) )"
   ]
  },
  {
   "cell_type": "code",
   "execution_count": 8,
   "id": "80ac1418",
   "metadata": {},
   "outputs": [
    {
     "name": "stdout",
     "output_type": "stream",
     "text": [
      "Enter a number: 17\n",
      "Octal of 17 is 0o21 \n",
      "hexadecimal of 17 is 0x11 \n"
     ]
    }
   ],
   "source": [
    "# We can also use built in functions to find binary, octal and hexadecimal numbers \n",
    "# Dec to octal and hexadecimal conversion using built-in functions\n",
    "num = int(input(\"Enter a number: \") )\n",
    "print(\"Octal of {} is {} \".format(num,oct(num)))\n",
    "print(\"hexadecimal of {} is {} \".format(num,hex(num)))"
   ]
  },
  {
   "cell_type": "markdown",
   "id": "bed294e3",
   "metadata": {},
   "source": [
    "4.\tWrite a Python Program To Find ASCII value of a character?\n"
   ]
  },
  {
   "cell_type": "code",
   "execution_count": 12,
   "id": "a4783e7e",
   "metadata": {},
   "outputs": [
    {
     "name": "stdout",
     "output_type": "stream",
     "text": [
      "Enter a character: G\n",
      "ASCII of G is 71\n"
     ]
    }
   ],
   "source": [
    "char = input(\"Enter a character: \")\n",
    "if len(char)>1:\n",
    "    print(\"Error! character length cannot be greater than 1\")\n",
    "else:\n",
    "    print(\"ASCII of {} is {}\".format(char,ord(char)))"
   ]
  },
  {
   "cell_type": "markdown",
   "id": "e0d5f4ca",
   "metadata": {},
   "source": [
    "5.\tWrite a Python Program to Make a Simple Calculator with 4 basic mathematical operations?\n"
   ]
  },
  {
   "cell_type": "code",
   "execution_count": null,
   "id": "0bdd3821",
   "metadata": {},
   "outputs": [
    {
     "name": "stdout",
     "output_type": "stream",
     "text": [
      "Select an Operation:         \n",
      "1. Addition(1)        \n",
      "2. Subtraction        \n",
      "3. Multiplication(3)        \n",
      "4. Division(4)        \n",
      "5. Stop(0) \n",
      "\n",
      "Enter a arithmetic operation -> 3\n",
      "\n",
      "Enter 1st Number: 2\n",
      "Enter 2nd Number: 3\n",
      "{6}\n"
     ]
    }
   ],
   "source": [
    "import operator\n",
    "print(\"Select an Operation: \\\n",
    "        \\n1. Addition(1)\\\n",
    "        \\n2. Subtraction\\\n",
    "        \\n3. Multiplication(3)\\\n",
    "        \\n4. Division(4)\\\n",
    "        \\n5. Stop(0) \\n\")\n",
    "ops = { \"1\": operator.add, \"2\": operator.sub, \"3\":operator.mul, \"4\":operator.truediv } \n",
    "\n",
    "while True:\n",
    "    operator = input('Enter a arithmetic operation -> ')\n",
    "    if operator == '0':\n",
    "        print(\"Program Stopped successfully\")\n",
    "        break\n",
    "    elif operator not in ['1','2','3','4']:\n",
    "        print(\"Please enter a valid operator\")\n",
    "    else:\n",
    "        num_1 = int(input('\\nEnter 1st Number: '))\n",
    "        num_2 = int(input('Enter 2nd Number: '))\n",
    "        print({ops[operator](num_1,num_2)})\n",
    "    "
   ]
  }
 ],
 "metadata": {
  "kernelspec": {
   "display_name": "Python 3 (ipykernel)",
   "language": "python",
   "name": "python3"
  },
  "language_info": {
   "codemirror_mode": {
    "name": "ipython",
    "version": 3
   },
   "file_extension": ".py",
   "mimetype": "text/x-python",
   "name": "python",
   "nbconvert_exporter": "python",
   "pygments_lexer": "ipython3",
   "version": "3.9.12"
  }
 },
 "nbformat": 4,
 "nbformat_minor": 5
}
