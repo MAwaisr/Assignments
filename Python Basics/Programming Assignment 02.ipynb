{
 "cells": [
  {
   "cell_type": "markdown",
   "id": "3c56b3c8",
   "metadata": {},
   "source": [
    "## Programming Assignment 02"
   ]
  },
  {
   "cell_type": "markdown",
   "id": "34d49016",
   "metadata": {},
   "source": [
    "1.\tWrite a Python program to convert kilometers to miles?\n",
    "2.\tWrite a Python program to convert Celsius to Fahrenheit?\n",
    "3.\tWrite a Python program to display calendar?\n",
    "4.\tWrite a Python program to solve quadratic equation?\n",
    "5.\tWrite a Python program to swap two variables without temp variable?\n"
   ]
  },
  {
   "cell_type": "markdown",
   "id": "e1fe0e6a",
   "metadata": {},
   "source": [
    "1.\tWrite a Python program to convert kilometers to miles?\n"
   ]
  },
  {
   "cell_type": "code",
   "execution_count": 1,
   "id": "fc00530b",
   "metadata": {},
   "outputs": [
    {
     "name": "stdout",
     "output_type": "stream",
     "text": [
      "Enter distance in km: 1\n",
      "1.0 km is equal to 0.625 mile\n"
     ]
    }
   ],
   "source": [
    "def kmTomile():\n",
    "    dist = float(input(\"Enter distance in km: \"))\n",
    "    print(\"{} km is equal to {} mile\".format(dist,dist*(1/1.6)))\n",
    "kmTomile()"
   ]
  },
  {
   "cell_type": "markdown",
   "id": "aa8ab733",
   "metadata": {},
   "source": [
    "2.\tWrite a Python program to convert Celsius to Fahrenheit?\n"
   ]
  },
  {
   "cell_type": "code",
   "execution_count": 2,
   "id": "40f8a13f",
   "metadata": {},
   "outputs": [
    {
     "name": "stdout",
     "output_type": "stream",
     "text": [
      "Enter temperature in celcius: 32\n",
      "32.0 celcius is equals to 89.6 farenheit\n"
     ]
    }
   ],
   "source": [
    "def CelToFaren():\n",
    "    cel = float(input(\"Enter temperature in celcius: \"))\n",
    "    print(\"{} celcius is equals to {} farenheit\".format(cel,(cel*1.8+32)))\n",
    "    # note that we can also use return to return the converted value\n",
    "CelToFaren()"
   ]
  },
  {
   "cell_type": "markdown",
   "id": "0a3a38ea",
   "metadata": {},
   "source": [
    "3.\tWrite a Python program to display calendar?\n"
   ]
  },
  {
   "cell_type": "code",
   "execution_count": 23,
   "id": "d851069d",
   "metadata": {},
   "outputs": [
    {
     "name": "stdout",
     "output_type": "stream",
     "text": [
      "Enter calender year: 2023\n",
      "                                  2023\n",
      "\n",
      "      January                   February                   March\n",
      "Mo Tu We Th Fr Sa Su      Mo Tu We Th Fr Sa Su      Mo Tu We Th Fr Sa Su\n",
      "                   1             1  2  3  4  5             1  2  3  4  5\n",
      " 2  3  4  5  6  7  8       6  7  8  9 10 11 12       6  7  8  9 10 11 12\n",
      " 9 10 11 12 13 14 15      13 14 15 16 17 18 19      13 14 15 16 17 18 19\n",
      "16 17 18 19 20 21 22      20 21 22 23 24 25 26      20 21 22 23 24 25 26\n",
      "23 24 25 26 27 28 29      27 28                     27 28 29 30 31\n",
      "30 31\n",
      "\n",
      "       April                      May                       June\n",
      "Mo Tu We Th Fr Sa Su      Mo Tu We Th Fr Sa Su      Mo Tu We Th Fr Sa Su\n",
      "                1  2       1  2  3  4  5  6  7                1  2  3  4\n",
      " 3  4  5  6  7  8  9       8  9 10 11 12 13 14       5  6  7  8  9 10 11\n",
      "10 11 12 13 14 15 16      15 16 17 18 19 20 21      12 13 14 15 16 17 18\n",
      "17 18 19 20 21 22 23      22 23 24 25 26 27 28      19 20 21 22 23 24 25\n",
      "24 25 26 27 28 29 30      29 30 31                  26 27 28 29 30\n",
      "\n",
      "        July                     August                  September\n",
      "Mo Tu We Th Fr Sa Su      Mo Tu We Th Fr Sa Su      Mo Tu We Th Fr Sa Su\n",
      "                1  2          1  2  3  4  5  6                   1  2  3\n",
      " 3  4  5  6  7  8  9       7  8  9 10 11 12 13       4  5  6  7  8  9 10\n",
      "10 11 12 13 14 15 16      14 15 16 17 18 19 20      11 12 13 14 15 16 17\n",
      "17 18 19 20 21 22 23      21 22 23 24 25 26 27      18 19 20 21 22 23 24\n",
      "24 25 26 27 28 29 30      28 29 30 31               25 26 27 28 29 30\n",
      "31\n",
      "\n",
      "      October                   November                  December\n",
      "Mo Tu We Th Fr Sa Su      Mo Tu We Th Fr Sa Su      Mo Tu We Th Fr Sa Su\n",
      "                   1             1  2  3  4  5                   1  2  3\n",
      " 2  3  4  5  6  7  8       6  7  8  9 10 11 12       4  5  6  7  8  9 10\n",
      " 9 10 11 12 13 14 15      13 14 15 16 17 18 19      11 12 13 14 15 16 17\n",
      "16 17 18 19 20 21 22      20 21 22 23 24 25 26      18 19 20 21 22 23 24\n",
      "23 24 25 26 27 28 29      27 28 29 30               25 26 27 28 29 30 31\n",
      "30 31\n",
      "\n"
     ]
    }
   ],
   "source": [
    "import calendar\n",
    "\n",
    "def showCalender():\n",
    "    year = int(input(\"Enter calender year: \"))\n",
    "    print(calendar.calendar(year))\n",
    "    \n",
    "showCalender()"
   ]
  },
  {
   "cell_type": "markdown",
   "id": "b2cde970",
   "metadata": {},
   "source": [
    "4.\tWrite a Python program to solve quadratic equation?\n"
   ]
  },
  {
   "cell_type": "code",
   "execution_count": 21,
   "id": "17c56db2",
   "metadata": {},
   "outputs": [
    {
     "name": "stdout",
     "output_type": "stream",
     "text": [
      "Enter coefficient of x^2 1\n",
      "Enter coefficient of x^1 6\n",
      "Enter coefficient of x^0 9\n"
     ]
    },
    {
     "data": {
      "text/plain": [
       "((-3+0j), (-3+0j))"
      ]
     },
     "execution_count": 21,
     "metadata": {},
     "output_type": "execute_result"
    }
   ],
   "source": [
    "\n",
    "# let a,b,c be coeffients of x^2, x^1 and x^0 respectively then we can use formulas for a1 and a1 (roots)\n",
    "import cmath\n",
    "def quadsolver():\n",
    "    a = float(input(\"Enter coefficient of x^2 \"))\n",
    "    b = float(input(\"Enter coefficient of x^1 \"))\n",
    "    c = float(input(\"Enter coefficient of x^0 \")) # or constant\n",
    "    a1 = ( -b +( cmath.sqrt( (b*b)-(4*a*c) ) ) )/(2*a)\n",
    "    a2 = ( -b -( cmath.sqrt( (b*b)-(4*a*c) ) ) )/(2*a)\n",
    "    return a1,a2\n",
    "\n",
    "ans = quadsolver()\n",
    "ans"
   ]
  },
  {
   "cell_type": "markdown",
   "id": "66f03eee",
   "metadata": {},
   "source": [
    "5.\tWrite a Python program to swap two variables without temp variable?\n"
   ]
  },
  {
   "cell_type": "code",
   "execution_count": 22,
   "id": "d273e576",
   "metadata": {},
   "outputs": [
    {
     "name": "stdout",
     "output_type": "stream",
     "text": [
      "Enter first number: 3\n",
      "Enter second number: 6\n",
      "Before Swapping 3 6\n",
      "before Swapping 6 3\n"
     ]
    }
   ],
   "source": [
    "num1 = int(input('Enter first number: '))\n",
    "num2 = int(input('Enter second number: '))\n",
    "def swapNum(num1,num2):\n",
    "        print('Before Swapping',num1,num2)\n",
    "        num1 = num1+num2\n",
    "        num2 = num1-num2\n",
    "        num1 = num1-num2\n",
    "        print('before Swapping',num1,num2)\n",
    "\n",
    "swapNum(num1,num2)"
   ]
  }
 ],
 "metadata": {
  "kernelspec": {
   "display_name": "Python 3 (ipykernel)",
   "language": "python",
   "name": "python3"
  },
  "language_info": {
   "codemirror_mode": {
    "name": "ipython",
    "version": 3
   },
   "file_extension": ".py",
   "mimetype": "text/x-python",
   "name": "python",
   "nbconvert_exporter": "python",
   "pygments_lexer": "ipython3",
   "version": "3.9.12"
  }
 },
 "nbformat": 4,
 "nbformat_minor": 5
}
