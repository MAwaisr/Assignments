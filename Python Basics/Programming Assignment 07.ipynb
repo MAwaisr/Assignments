{
 "cells": [
  {
   "cell_type": "markdown",
   "id": "8e0a6d79",
   "metadata": {},
   "source": [
    "## Programming Assignment 07"
   ]
  },
  {
   "cell_type": "markdown",
   "id": "b0621928",
   "metadata": {},
   "source": [
    "1.\tWrite a Python Program to find sum of array?\n",
    "\n"
   ]
  },
  {
   "cell_type": "code",
   "execution_count": 1,
   "id": "cbd285c9",
   "metadata": {},
   "outputs": [
    {
     "name": "stdout",
     "output_type": "stream",
     "text": [
      "15\n"
     ]
    }
   ],
   "source": [
    "\n",
    "def array_sum(arr):\n",
    "    ans = 0\n",
    "    for i in range(len(arr)):\n",
    "        ans += arr[i]\n",
    "    return ans\n",
    "\n",
    "print(array_sum([1,2,3,4,5]))"
   ]
  },
  {
   "cell_type": "markdown",
   "id": "375f97da",
   "metadata": {},
   "source": [
    "2.\tWrite a Python Program to find largest element in an array?\n"
   ]
  },
  {
   "cell_type": "code",
   "execution_count": 2,
   "id": "3a089a60",
   "metadata": {},
   "outputs": [
    {
     "name": "stdout",
     "output_type": "stream",
     "text": [
      "31\n"
     ]
    }
   ],
   "source": [
    "def array_max(arr):\n",
    "    max = 0\n",
    "    for i in range(len(arr)):\n",
    "        if arr[i]>max:\n",
    "            max = arr[i]\n",
    "        \n",
    "    return max\n",
    "\n",
    "print(array_max([10,12,31,4,5]))"
   ]
  },
  {
   "cell_type": "markdown",
   "id": "13767463",
   "metadata": {},
   "source": [
    "3.\tWrite a Python Program for array rotation?\n"
   ]
  },
  {
   "cell_type": "code",
   "execution_count": 4,
   "id": "3b951db0",
   "metadata": {},
   "outputs": [
    {
     "name": "stdout",
     "output_type": "stream",
     "text": [
      "[31, 4, 5, 10, 12]\n",
      "[3, 4, 5, 1, 2]\n"
     ]
    }
   ],
   "source": [
    "def array_rotate(arr, d, r=1):\n",
    "    n = len(arr)\n",
    "    if r == 1:\n",
    "        # Left rotation\n",
    "        r_arr = arr[0:d]\n",
    "        new_arr = arr[d:] + r_arr\n",
    "    else:\n",
    "        # Right rotation\n",
    "        new_arr = arr[n - d:] + arr[:n - d]\n",
    "    return new_arr\n",
    "\n",
    "print(array_rotate([10, 12, 31, 4, 5], 3, -1)) # rigth rotation\n",
    "print(array_rotate([1, 2, 3, 4, 5], 2)) # left rotation\n"
   ]
  },
  {
   "cell_type": "markdown",
   "id": "ae080d4b",
   "metadata": {},
   "source": [
    "4.\tWrite a Python Program to Split the array and add the first part to the end?\n"
   ]
  },
  {
   "cell_type": "code",
   "execution_count": 5,
   "id": "31d21d17",
   "metadata": {},
   "outputs": [
    {
     "name": "stdout",
     "output_type": "stream",
     "text": [
      "[4, 5, 10, 12, 31]\n",
      "[3, 4, 5, 1, 2]\n"
     ]
    }
   ],
   "source": [
    "def array_split(arr, d): # d represents the spliting point starting from 1 and not zero\n",
    "    n = len(arr)\n",
    "    if n>1:\n",
    "        r_arr = arr[0:d]\n",
    "        new_arr = arr[d:] + r_arr\n",
    "    else:\n",
    "        return \"split operation cannot be performed\"\n",
    "    return new_arr\n",
    "\n",
    "print(array_split([10, 12, 31, 4, 5], 3,))\n",
    "print(array_split([1, 2, 3, 4, 5], 2))     "
   ]
  },
  {
   "cell_type": "markdown",
   "id": "b774ff8d",
   "metadata": {},
   "source": [
    "5.\tWrite a Python Program to check if given array is Monotonic?"
   ]
  },
  {
   "cell_type": "code",
   "execution_count": 7,
   "id": "86fdef62",
   "metadata": {},
   "outputs": [
    {
     "name": "stdout",
     "output_type": "stream",
     "text": [
      "Is array1 monotonic? True\n",
      "Is array2 monotonic? True\n",
      "Is array3 monotonic? False\n"
     ]
    }
   ],
   "source": [
    "def is_monotonic(arr):\n",
    "    increasing = decreasing = True\n",
    "\n",
    "    # Check if the array is strictly increasing or decreasing\n",
    "    for i in range(1, len(arr)):\n",
    "        if arr[i] > arr[i - 1]:\n",
    "            decreasing = False\n",
    "        elif arr[i] < arr[i - 1]:\n",
    "            increasing = False\n",
    "\n",
    "    # If either increasing or decreasing is True, array is monotonic\n",
    "    return increasing or decreasing\n",
    "\n",
    "\n",
    "array1 = [1, 2, 3, 4, 5] \n",
    "array2 = [5, 4, 3, 2, 1]  \n",
    "array3 = [1, 3, 2, 5, 7]  \n",
    "\n",
    "# Check if arrays are monotonic\n",
    "print(\"Is array1 monotonic?\", is_monotonic(array1))  \n",
    "print(\"Is array2 monotonic?\", is_monotonic(array2))  \n",
    "print(\"Is array3 monotonic?\", is_monotonic(array3))"
   ]
  },
  {
   "cell_type": "code",
   "execution_count": null,
   "id": "450140ed",
   "metadata": {},
   "outputs": [],
   "source": []
  }
 ],
 "metadata": {
  "kernelspec": {
   "display_name": "Python 3 (ipykernel)",
   "language": "python",
   "name": "python3"
  },
  "language_info": {
   "codemirror_mode": {
    "name": "ipython",
    "version": 3
   },
   "file_extension": ".py",
   "mimetype": "text/x-python",
   "name": "python",
   "nbconvert_exporter": "python",
   "pygments_lexer": "ipython3",
   "version": "3.11.4"
  }
 },
 "nbformat": 4,
 "nbformat_minor": 5
}
